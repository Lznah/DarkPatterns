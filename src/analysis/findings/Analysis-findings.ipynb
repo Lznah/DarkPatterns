{
 "cells": [
  {
   "cell_type": "code",
   "execution_count": 1,
   "metadata": {},
   "outputs": [],
   "source": [
    "import pandas as pd\n",
    "import numpy as np\n",
    "import matplotlib\n",
    "import matplotlib.pyplot as plt\n",
    "import seaborn as sb"
   ]
  },
  {
   "cell_type": "code",
   "execution_count": 2,
   "metadata": {},
   "outputs": [],
   "source": [
    "matplotlib.use(\"pgf\")\n",
    "matplotlib.rcParams.update({\n",
    "    \"pgf.texsystem\": \"pdflatex\",\n",
    "    'font.family': 'serif',\n",
    "    'text.usetex': True,\n",
    "    'pgf.rcfonts': False,\n",
    "})"
   ]
  },
  {
   "cell_type": "code",
   "execution_count": 2,
   "metadata": {},
   "outputs": [],
   "source": [
    "df = pd.read_csv('../../../data/dark_patterns.csv', delimiter=\";\")\n",
    "df_ranks = pd.read_csv('../../../data/eshop_list.csv',\n",
    "                       delimiter=\",\",\n",
    "                       header=None,\n",
    "                       names=['Name', 'HeurekaURL', 'URL', 'Domain']\n",
    "                      )\n",
    "df_ranks['rank'] = df_ranks.index+1\n",
    "df['Domain'] = df['Domain'].str.replace('www.','')\n",
    "df_ranks['Domain'] = df_ranks['Domain'].str.replace('www.','')"
   ]
  },
  {
   "cell_type": "code",
   "execution_count": 3,
   "metadata": {},
   "outputs": [],
   "source": [
    "df = pd.merge(df,df_ranks,on='Domain',how='left')"
   ]
  },
  {
   "cell_type": "code",
   "execution_count": 4,
   "metadata": {},
   "outputs": [
    {
     "data": {
      "text/html": [
       "<div>\n",
       "<style scoped>\n",
       "    .dataframe tbody tr th:only-of-type {\n",
       "        vertical-align: middle;\n",
       "    }\n",
       "\n",
       "    .dataframe tbody tr th {\n",
       "        vertical-align: top;\n",
       "    }\n",
       "\n",
       "    .dataframe thead th {\n",
       "        text-align: right;\n",
       "    }\n",
       "</style>\n",
       "<table border=\"1\" class=\"dataframe\">\n",
       "  <thead>\n",
       "    <tr style=\"text-align: right;\">\n",
       "      <th></th>\n",
       "      <th>Pattern String</th>\n",
       "      <th>Comment</th>\n",
       "      <th>Pattern Category</th>\n",
       "      <th>Pattern Type</th>\n",
       "      <th>Where in website</th>\n",
       "      <th>Deceptive</th>\n",
       "      <th>Website Page</th>\n",
       "      <th>Domain</th>\n",
       "      <th>Name</th>\n",
       "      <th>HeurekaURL</th>\n",
       "      <th>URL</th>\n",
       "      <th>rank</th>\n",
       "    </tr>\n",
       "  </thead>\n",
       "  <tbody>\n",
       "  </tbody>\n",
       "</table>\n",
       "</div>"
      ],
      "text/plain": [
       "Empty DataFrame\n",
       "Columns: [Pattern String, Comment, Pattern Category, Pattern Type, Where in website, Deceptive, Website Page, Domain, Name, HeurekaURL, URL, rank]\n",
       "Index: []"
      ]
     },
     "execution_count": 4,
     "metadata": {},
     "output_type": "execute_result"
    }
   ],
   "source": [
    "df[df['rank'].isnull()]"
   ]
  },
  {
   "cell_type": "markdown",
   "metadata": {},
   "source": [
    "## How many Dark Patterns were found"
   ]
  },
  {
   "cell_type": "code",
   "execution_count": 5,
   "metadata": {},
   "outputs": [
    {
     "data": {
      "text/plain": [
       "(1430, 12)"
      ]
     },
     "execution_count": 5,
     "metadata": {},
     "output_type": "execute_result"
    }
   ],
   "source": [
    "df.shape"
   ]
  },
  {
   "cell_type": "markdown",
   "metadata": {},
   "source": [
    "## Eshops with the most occurences of Dark Patterns "
   ]
  },
  {
   "cell_type": "code",
   "execution_count": 6,
   "metadata": {},
   "outputs": [
    {
     "data": {
      "text/plain": [
       "Domain\n",
       "muziker.cz              9\n",
       "coolboty.cz             8\n",
       "jumboshop.cz            8\n",
       "rescue-store.cz         8\n",
       "cool-ceny.cz            7\n",
       "ergobaby-eshop.cz       7\n",
       "lopra.cz                7\n",
       "buddytoys-eshop.cz      6\n",
       "buxton-eshop.cz         6\n",
       "pepovasleva.cz          6\n",
       "ahifi.cz                5\n",
       "eroticke-pomucky.com    5\n",
       "eshop.alfafit.cz        5\n",
       "fitanu.com              5\n",
       "hospodynkam.cz          5\n",
       "martinus.cz             5\n",
       "memoa.cz                5\n",
       "postovnezdarma.cz       5\n",
       "probazen.com            5\n",
       "skladovky.cz            5\n",
       "Name: Domain, dtype: int64"
      ]
     },
     "execution_count": 6,
     "metadata": {},
     "output_type": "execute_result"
    }
   ],
   "source": [
    "df.groupby('Domain')['Domain'].count().nlargest(20)"
   ]
  },
  {
   "cell_type": "code",
   "execution_count": 7,
   "metadata": {},
   "outputs": [],
   "source": [
    "#df[df['Domain']==\"muziker.cz\"]"
   ]
  },
  {
   "cell_type": "markdown",
   "metadata": {},
   "source": [
    "## Sum of used dark pattern by category"
   ]
  },
  {
   "cell_type": "code",
   "execution_count": 8,
   "metadata": {},
   "outputs": [
    {
     "data": {
      "text/html": [
       "<div>\n",
       "<style scoped>\n",
       "    .dataframe tbody tr th:only-of-type {\n",
       "        vertical-align: middle;\n",
       "    }\n",
       "\n",
       "    .dataframe tbody tr th {\n",
       "        vertical-align: top;\n",
       "    }\n",
       "\n",
       "    .dataframe thead tr th {\n",
       "        text-align: left;\n",
       "    }\n",
       "\n",
       "    .dataframe thead tr:last-of-type th {\n",
       "        text-align: right;\n",
       "    }\n",
       "</style>\n",
       "<table border=\"1\" class=\"dataframe\">\n",
       "  <thead>\n",
       "    <tr>\n",
       "      <th></th>\n",
       "      <th colspan=\"2\" halign=\"left\">Domain</th>\n",
       "    </tr>\n",
       "    <tr>\n",
       "      <th></th>\n",
       "      <th>count</th>\n",
       "      <th>nunique</th>\n",
       "    </tr>\n",
       "    <tr>\n",
       "      <th>Pattern Category</th>\n",
       "      <th></th>\n",
       "      <th></th>\n",
       "    </tr>\n",
       "  </thead>\n",
       "  <tbody>\n",
       "    <tr>\n",
       "      <th>Forced Action</th>\n",
       "      <td>75</td>\n",
       "      <td>62</td>\n",
       "    </tr>\n",
       "    <tr>\n",
       "      <th>Misdirection</th>\n",
       "      <td>1020</td>\n",
       "      <td>874</td>\n",
       "    </tr>\n",
       "    <tr>\n",
       "      <th>Obstruction</th>\n",
       "      <td>6</td>\n",
       "      <td>6</td>\n",
       "    </tr>\n",
       "    <tr>\n",
       "      <th>Scarcity</th>\n",
       "      <td>45</td>\n",
       "      <td>41</td>\n",
       "    </tr>\n",
       "    <tr>\n",
       "      <th>Sneaking</th>\n",
       "      <td>2</td>\n",
       "      <td>2</td>\n",
       "    </tr>\n",
       "    <tr>\n",
       "      <th>Social Proof</th>\n",
       "      <td>242</td>\n",
       "      <td>207</td>\n",
       "    </tr>\n",
       "    <tr>\n",
       "      <th>Urgency</th>\n",
       "      <td>40</td>\n",
       "      <td>37</td>\n",
       "    </tr>\n",
       "  </tbody>\n",
       "</table>\n",
       "</div>"
      ],
      "text/plain": [
       "                 Domain        \n",
       "                  count nunique\n",
       "Pattern Category               \n",
       "Forced Action        75      62\n",
       "Misdirection       1020     874\n",
       "Obstruction           6       6\n",
       "Scarcity             45      41\n",
       "Sneaking              2       2\n",
       "Social Proof        242     207\n",
       "Urgency              40      37"
      ]
     },
     "execution_count": 8,
     "metadata": {},
     "output_type": "execute_result"
    }
   ],
   "source": [
    "df[['Pattern Category', 'Domain']].groupby('Pattern Category').agg({'Domain': ['count', pd.Series.nunique]})"
   ]
  },
  {
   "cell_type": "markdown",
   "metadata": {},
   "source": [
    "## Sum of used dark pattern by type"
   ]
  },
  {
   "cell_type": "code",
   "execution_count": 9,
   "metadata": {},
   "outputs": [
    {
     "data": {
      "text/html": [
       "<div>\n",
       "<style scoped>\n",
       "    .dataframe tbody tr th:only-of-type {\n",
       "        vertical-align: middle;\n",
       "    }\n",
       "\n",
       "    .dataframe tbody tr th {\n",
       "        vertical-align: top;\n",
       "    }\n",
       "\n",
       "    .dataframe thead tr th {\n",
       "        text-align: left;\n",
       "    }\n",
       "\n",
       "    .dataframe thead tr:last-of-type th {\n",
       "        text-align: right;\n",
       "    }\n",
       "</style>\n",
       "<table border=\"1\" class=\"dataframe\">\n",
       "  <thead>\n",
       "    <tr>\n",
       "      <th></th>\n",
       "      <th colspan=\"2\" halign=\"left\">Domain</th>\n",
       "    </tr>\n",
       "    <tr>\n",
       "      <th></th>\n",
       "      <th>count</th>\n",
       "      <th>nunique</th>\n",
       "    </tr>\n",
       "    <tr>\n",
       "      <th>Pattern Type</th>\n",
       "      <th></th>\n",
       "      <th></th>\n",
       "    </tr>\n",
       "  </thead>\n",
       "  <tbody>\n",
       "    <tr>\n",
       "      <th>Activity Message</th>\n",
       "      <td>223</td>\n",
       "      <td>193</td>\n",
       "    </tr>\n",
       "    <tr>\n",
       "      <th>Countdown Timer</th>\n",
       "      <td>23</td>\n",
       "      <td>20</td>\n",
       "    </tr>\n",
       "    <tr>\n",
       "      <th>Forced Enrollment</th>\n",
       "      <td>75</td>\n",
       "      <td>62</td>\n",
       "    </tr>\n",
       "    <tr>\n",
       "      <th>Hard to Cancel</th>\n",
       "      <td>6</td>\n",
       "      <td>6</td>\n",
       "    </tr>\n",
       "    <tr>\n",
       "      <th>High-demand Message</th>\n",
       "      <td>7</td>\n",
       "      <td>7</td>\n",
       "    </tr>\n",
       "    <tr>\n",
       "      <th>Limited-time Message</th>\n",
       "      <td>17</td>\n",
       "      <td>17</td>\n",
       "    </tr>\n",
       "    <tr>\n",
       "      <th>Low-stock Message</th>\n",
       "      <td>38</td>\n",
       "      <td>36</td>\n",
       "    </tr>\n",
       "    <tr>\n",
       "      <th>Pressured Selling</th>\n",
       "      <td>924</td>\n",
       "      <td>843</td>\n",
       "    </tr>\n",
       "    <tr>\n",
       "      <th>Sneak into Basket</th>\n",
       "      <td>2</td>\n",
       "      <td>2</td>\n",
       "    </tr>\n",
       "    <tr>\n",
       "      <th>Testimonials of Uncertain Origin</th>\n",
       "      <td>19</td>\n",
       "      <td>16</td>\n",
       "    </tr>\n",
       "    <tr>\n",
       "      <th>Trick Questions</th>\n",
       "      <td>68</td>\n",
       "      <td>63</td>\n",
       "    </tr>\n",
       "    <tr>\n",
       "      <th>Visual Interference</th>\n",
       "      <td>28</td>\n",
       "      <td>20</td>\n",
       "    </tr>\n",
       "  </tbody>\n",
       "</table>\n",
       "</div>"
      ],
      "text/plain": [
       "                                 Domain        \n",
       "                                  count nunique\n",
       "Pattern Type                                   \n",
       "Activity Message                    223     193\n",
       "Countdown Timer                      23      20\n",
       "Forced Enrollment                    75      62\n",
       "Hard to Cancel                        6       6\n",
       "High-demand Message                   7       7\n",
       "Limited-time Message                 17      17\n",
       "Low-stock Message                    38      36\n",
       "Pressured Selling                   924     843\n",
       "Sneak into Basket                     2       2\n",
       "Testimonials of Uncertain Origin     19      16\n",
       "Trick Questions                      68      63\n",
       "Visual Interference                  28      20"
      ]
     },
     "execution_count": 9,
     "metadata": {},
     "output_type": "execute_result"
    }
   ],
   "source": [
    "df[['Pattern Type', 'Domain']].groupby('Pattern Type').agg({'Domain': ['count', pd.Series.nunique]})"
   ]
  },
  {
   "cell_type": "code",
   "execution_count": 10,
   "metadata": {},
   "outputs": [
    {
     "data": {
      "text/html": [
       "<div>\n",
       "<style scoped>\n",
       "    .dataframe tbody tr th:only-of-type {\n",
       "        vertical-align: middle;\n",
       "    }\n",
       "\n",
       "    .dataframe tbody tr th {\n",
       "        vertical-align: top;\n",
       "    }\n",
       "\n",
       "    .dataframe thead tr th {\n",
       "        text-align: left;\n",
       "    }\n",
       "\n",
       "    .dataframe thead tr:last-of-type th {\n",
       "        text-align: right;\n",
       "    }\n",
       "</style>\n",
       "<table border=\"1\" class=\"dataframe\">\n",
       "  <thead>\n",
       "    <tr>\n",
       "      <th></th>\n",
       "      <th></th>\n",
       "      <th colspan=\"2\" halign=\"left\">Domain</th>\n",
       "    </tr>\n",
       "    <tr>\n",
       "      <th></th>\n",
       "      <th></th>\n",
       "      <th>count</th>\n",
       "      <th>nunique</th>\n",
       "    </tr>\n",
       "    <tr>\n",
       "      <th>Pattern Category</th>\n",
       "      <th>Pattern Type</th>\n",
       "      <th></th>\n",
       "      <th></th>\n",
       "    </tr>\n",
       "  </thead>\n",
       "  <tbody>\n",
       "    <tr>\n",
       "      <th>Forced Action</th>\n",
       "      <th>Forced Enrollment</th>\n",
       "      <td>75</td>\n",
       "      <td>62</td>\n",
       "    </tr>\n",
       "    <tr>\n",
       "      <th rowspan=\"3\" valign=\"top\">Misdirection</th>\n",
       "      <th>Pressured Selling</th>\n",
       "      <td>924</td>\n",
       "      <td>843</td>\n",
       "    </tr>\n",
       "    <tr>\n",
       "      <th>Trick Questions</th>\n",
       "      <td>68</td>\n",
       "      <td>63</td>\n",
       "    </tr>\n",
       "    <tr>\n",
       "      <th>Visual Interference</th>\n",
       "      <td>28</td>\n",
       "      <td>20</td>\n",
       "    </tr>\n",
       "    <tr>\n",
       "      <th>Obstruction</th>\n",
       "      <th>Hard to Cancel</th>\n",
       "      <td>6</td>\n",
       "      <td>6</td>\n",
       "    </tr>\n",
       "    <tr>\n",
       "      <th rowspan=\"2\" valign=\"top\">Scarcity</th>\n",
       "      <th>High-demand Message</th>\n",
       "      <td>7</td>\n",
       "      <td>7</td>\n",
       "    </tr>\n",
       "    <tr>\n",
       "      <th>Low-stock Message</th>\n",
       "      <td>38</td>\n",
       "      <td>36</td>\n",
       "    </tr>\n",
       "    <tr>\n",
       "      <th>Sneaking</th>\n",
       "      <th>Sneak into Basket</th>\n",
       "      <td>2</td>\n",
       "      <td>2</td>\n",
       "    </tr>\n",
       "    <tr>\n",
       "      <th rowspan=\"2\" valign=\"top\">Social Proof</th>\n",
       "      <th>Activity Message</th>\n",
       "      <td>223</td>\n",
       "      <td>193</td>\n",
       "    </tr>\n",
       "    <tr>\n",
       "      <th>Testimonials of Uncertain Origin</th>\n",
       "      <td>19</td>\n",
       "      <td>16</td>\n",
       "    </tr>\n",
       "    <tr>\n",
       "      <th rowspan=\"2\" valign=\"top\">Urgency</th>\n",
       "      <th>Countdown Timer</th>\n",
       "      <td>23</td>\n",
       "      <td>20</td>\n",
       "    </tr>\n",
       "    <tr>\n",
       "      <th>Limited-time Message</th>\n",
       "      <td>17</td>\n",
       "      <td>17</td>\n",
       "    </tr>\n",
       "  </tbody>\n",
       "</table>\n",
       "</div>"
      ],
      "text/plain": [
       "                                                  Domain        \n",
       "                                                   count nunique\n",
       "Pattern Category Pattern Type                                   \n",
       "Forced Action    Forced Enrollment                    75      62\n",
       "Misdirection     Pressured Selling                   924     843\n",
       "                 Trick Questions                      68      63\n",
       "                 Visual Interference                  28      20\n",
       "Obstruction      Hard to Cancel                        6       6\n",
       "Scarcity         High-demand Message                   7       7\n",
       "                 Low-stock Message                    38      36\n",
       "Sneaking         Sneak into Basket                     2       2\n",
       "Social Proof     Activity Message                    223     193\n",
       "                 Testimonials of Uncertain Origin     19      16\n",
       "Urgency          Countdown Timer                      23      20\n",
       "                 Limited-time Message                 17      17"
      ]
     },
     "execution_count": 10,
     "metadata": {},
     "output_type": "execute_result"
    }
   ],
   "source": [
    "df[['Pattern Category','Pattern Type', 'Domain']].groupby(['Pattern Category','Pattern Type']).agg({'Domain': ['count', pd.Series.nunique]})"
   ]
  },
  {
   "cell_type": "markdown",
   "metadata": {},
   "source": [
    "## How many eshops contain dark pattern"
   ]
  },
  {
   "cell_type": "code",
   "execution_count": 11,
   "metadata": {},
   "outputs": [
    {
     "data": {
      "text/plain": [
       "(1081,)"
      ]
     },
     "execution_count": 11,
     "metadata": {},
     "output_type": "execute_result"
    }
   ],
   "source": [
    "df['Domain'].unique().shape"
   ]
  },
  {
   "cell_type": "code",
   "execution_count": 12,
   "metadata": {},
   "outputs": [
    {
     "data": {
      "text/plain": [
       "0.1081"
      ]
     },
     "execution_count": 12,
     "metadata": {},
     "output_type": "execute_result"
    }
   ],
   "source": [
    "1081/10000"
   ]
  },
  {
   "cell_type": "markdown",
   "metadata": {},
   "source": [
    "## Plot prevelance of dark patterns on 10K eshops"
   ]
  },
  {
   "cell_type": "code",
   "execution_count": 13,
   "metadata": {},
   "outputs": [],
   "source": [
    "# To print whole tables\n",
    "pd.options.display.max_columns = None\n",
    "pd.set_option('display.max_colwidth', None)\n",
    "pd.set_option('display.max_rows', None)"
   ]
  },
  {
   "cell_type": "code",
   "execution_count": 14,
   "metadata": {},
   "outputs": [],
   "source": [
    "dataset_length = 10000\n",
    "bin_size = 200;\n",
    "bins_count = int(dataset_length/bin_size)\n",
    "bins = np.linspace(0,dataset_length,bins_count+1)\n",
    "df['binned_rank'] = pd.cut(df['rank'], bins)"
   ]
  },
  {
   "cell_type": "code",
   "execution_count": 15,
   "metadata": {},
   "outputs": [],
   "source": [
    "df_unique = df.drop_duplicates(subset=\"Domain\")\n",
    "#df_unique = df_unique[df_unique['Pattern Type'] != 'Pressured Selling']\n",
    "#data = df_unique[['binned_rank', 'rank']].groupby('binned_rank').apply(lambda x: x['rank'].count()*100/bin_size)\n",
    "data = df_unique[['binned_rank', 'rank']].groupby('binned_rank').agg(dp_eshop_percent=('binned_rank','count'))*100/bin_size"
   ]
  },
  {
   "cell_type": "code",
   "execution_count": 16,
   "metadata": {},
   "outputs": [
    {
     "data": {
      "image/png": "[encoded data removed]",
      "text/plain": [
       "<Figure size 360x144 with 1 Axes>"
      ]
     },
     "metadata": {
      "needs_background": "light"
     },
     "output_type": "display_data"
    }
   ],
   "source": [
    "with plt.rc_context({\n",
    "    \"axes.spines.right\": False,\n",
    "    \"axes.spines.top\": False,\n",
    "}): \n",
    "    plt.bar(range(0,bins_count), data['dp_eshop_percent'], width=1, align='edge', edgecolor='#0065BD', linewidth=1.4, color=\"#6AADE4\")\n",
    "    plt.xlabel('Binned rank on Heureka.cz') \n",
    "    plt.ylabel('Percentage') \n",
    "    plt.title('Percentage of Webshops using Dark Patterns', fontsize=14) \n",
    "    plt.xticks(range(0,bins_count+4,10),[0,2000,4000,6000,8000,10000])\n",
    "    plt.yticks(range(0,24,3))\n",
    "    plt.gca().yaxis.set_major_formatter(matplotlib.ticker.PercentFormatter(100, decimals=0))\n",
    "    plt.gcf().set_size_inches(5,2)\n",
    "    plt.savefig('../../../thesis/media/graphs/freq-histogram-dp.pgf')"
   ]
  },
  {
   "cell_type": "code",
   "execution_count": 17,
   "metadata": {},
   "outputs": [
    {
     "name": "stderr",
     "output_type": "stream",
     "text": [
      "<ipython-input-17-522e19558b7d>:42: UserWarning: Matplotlib is currently using module://ipykernel.pylab.backend_inline, which is a non-GUI backend, so cannot show the figure.\n",
      "  fig.show()\n"
     ]
    },
    {
     "data": {
      "image/png": "[encoded data removed]",
      "text/plain": [
       "<Figure size 396x540 with 12 Axes>"
      ]
     },
     "metadata": {
      "needs_background": "light"
     },
     "output_type": "display_data"
    }
   ],
   "source": [
    "dp_types = ['Forced Enrollment', 'Pressured Selling',\n",
    "            'Trick Questions', 'Visual Interference',\n",
    "            'Hard to Cancel', 'High-demand Message',\n",
    "            'Low-stock Message', 'Activity Message',\n",
    "            'Testimonials of Uncertain Origin',\n",
    "            'Countdown Timer', 'Limited-time Message',\n",
    "            'Sneak into Basket']\n",
    "\n",
    "fig, axs = plt.subplots(6,2,sharex=True)\n",
    "fig.text(0.5, 0.97, 'Instances of Dark Pattern types over the Heureka\\'s ranking', fontsize=14, ha='center') \n",
    "\n",
    "datas = []\n",
    "ymajorticks = [(5, 1), (50, 10), (5, 1), (5, 1), (3, 1), (3, 1), (5, 1), (10,2), (5,1), (5,1), (5,1), (3,1)]\n",
    "i=0\n",
    "plt.tight_layout(rect=[0.02, 0.03, 1, 0.97],h_pad=0.7) \n",
    "for dp_type in dp_types:\n",
    "    df_by_type = df[df['Pattern Type'] == dp_types[i]].drop_duplicates(subset='Domain')\n",
    "    datas.append(df_by_type[['binned_rank', 'rank']].groupby('binned_rank').agg(dp_count=('binned_rank','count')))\n",
    "    i+=1\n",
    "    \n",
    "i=0\n",
    "for row in axs:\n",
    "    for ax in row:\n",
    "        with plt.rc_context({\n",
    "            \"axes.spines.right\": False,\n",
    "            \"axes.spines.top\": False,\n",
    "        }): \n",
    "    #         fig.subxlabel('Binned rank on Heureka.cz') \n",
    "    #         fig.subylabel('Percentage') \n",
    "            ax.bar(range(0,bins_count), datas[i]['dp_count'], width=1, edgecolor=\"#0065BD\", align='edge', linewidth=1.4, color=\"#6AADE4\")\n",
    "            plt.sca(ax)\n",
    "            plt.xticks(range(0,bins_count+4,10),[0,2000,4000,6000,8000,10000])\n",
    "            plt.yticks(range(0,ymajorticks[i][0],ymajorticks[i][1]))\n",
    "            plt.title(dp_types[i], fontsize=8)\n",
    "            plt.gcf().set_size_inches(12,6)\n",
    "            i+=1\n",
    "                    \n",
    "plt.gcf().set_size_inches(5.5,7.5)\n",
    "fig.text(0.275, 0.06, 'Binned rank on Heureka.cz', ha='center')\n",
    "fig.text(0.75, 0.06, 'Binned rank on Heureka.cz', ha='center')\n",
    "fig.text(0, 0.50, '\\# instances', va='center', rotation='vertical')\n",
    "fig.show()\n",
    "plt.savefig('../../../thesis/media/graphs/dp-by-type.pgf')\n"
   ]
  },
  {
   "cell_type": "code",
   "execution_count": 18,
   "metadata": {},
   "outputs": [],
   "source": [
    "temp = data['dp_eshop_percent'].to_frame().reset_index()\n",
    "temp['index'] = range(0,50,1)"
   ]
  },
  {
   "cell_type": "code",
   "execution_count": 19,
   "metadata": {},
   "outputs": [
    {
     "name": "stdout",
     "output_type": "stream",
     "text": [
      "-0.29129572075632404 0.040128974805467565\n"
     ]
    }
   ],
   "source": [
    "from scipy import stats\n",
    "tau, p_value = stats.spearmanr(temp['index'], temp['dp_eshop_percent'])\n",
    "print(tau, p_value)"
   ]
  },
  {
   "cell_type": "markdown",
   "metadata": {},
   "source": [
    "# E-commerce solutions used by webshops"
   ]
  },
  {
   "cell_type": "code",
   "execution_count": 38,
   "metadata": {},
   "outputs": [],
   "source": [
    "df_ecommerce = pd.read_csv('../../../data/e-commerce-solutions.csv', delimiter=\";\")\n",
    "df_ecommerce['Domain'] = df_ecommerce['domain'].str.replace('www.', '')\n",
    "del df_ecommerce['domain']"
   ]
  },
  {
   "cell_type": "code",
   "execution_count": 39,
   "metadata": {},
   "outputs": [],
   "source": [
    "pages = [\n",
    "    'obchod.pohledysdarkem.cz',\n",
    "    'shop.forstcz.cz',\n",
    "    'shop.bontcycling.cz'\n",
    "]\n",
    "df_ecommerce['Domain'] = df_ecommerce['Domain'].apply(lambda x: x.replace('shop.', '').replace('obchod.', '') if x in pages else x)"
   ]
  },
  {
   "cell_type": "code",
   "execution_count": 40,
   "metadata": {},
   "outputs": [],
   "source": [
    "df_ecommerce = pd.merge(df_ecommerce,df_ranks,on='Domain',how='left')"
   ]
  },
  {
   "cell_type": "code",
   "execution_count": 41,
   "metadata": {},
   "outputs": [
    {
     "data": {
      "text/html": [
       "<div>\n",
       "<style scoped>\n",
       "    .dataframe tbody tr th:only-of-type {\n",
       "        vertical-align: middle;\n",
       "    }\n",
       "\n",
       "    .dataframe tbody tr th {\n",
       "        vertical-align: top;\n",
       "    }\n",
       "\n",
       "    .dataframe thead th {\n",
       "        text-align: right;\n",
       "    }\n",
       "</style>\n",
       "<table border=\"1\" class=\"dataframe\">\n",
       "  <thead>\n",
       "    <tr style=\"text-align: right;\">\n",
       "      <th></th>\n",
       "      <th>inner_text</th>\n",
       "      <th>site_url</th>\n",
       "      <th>e-shop</th>\n",
       "      <th>Domain</th>\n",
       "      <th>Name</th>\n",
       "      <th>HeurekaURL</th>\n",
       "      <th>URL</th>\n",
       "      <th>rank</th>\n",
       "    </tr>\n",
       "  </thead>\n",
       "  <tbody>\n",
       "  </tbody>\n",
       "</table>\n",
       "</div>"
      ],
      "text/plain": [
       "Empty DataFrame\n",
       "Columns: [inner_text, site_url, e-shop, Domain, Name, HeurekaURL, URL, rank]\n",
       "Index: []"
      ]
     },
     "execution_count": 41,
     "metadata": {},
     "output_type": "execute_result"
    }
   ],
   "source": [
    "df_ecommerce[df_ecommerce['rank'].isnull()]"
   ]
  },
  {
   "cell_type": "code",
   "execution_count": 42,
   "metadata": {},
   "outputs": [],
   "source": [
    "dataset_length = 10000\n",
    "bin_size = 200;\n",
    "bins_count = int(dataset_length/bin_size)\n",
    "bins = np.linspace(0,dataset_length,bins_count+1)"
   ]
  },
  {
   "cell_type": "code",
   "execution_count": 43,
   "metadata": {},
   "outputs": [
    {
     "data": {
      "image/png": "[encoded data removed]",
      "text/plain": [
       "<Figure size 360x144 with 1 Axes>"
      ]
     },
     "metadata": {
      "needs_background": "light"
     },
     "output_type": "display_data"
    }
   ],
   "source": [
    "df_ecommerce['binned_rank'] = pd.cut(df_ecommerce['rank'], bins)\n",
    "# sum of all\n",
    "data = df_ecommerce[['binned_rank', 'rank']].groupby('binned_rank').agg(count=('binned_rank','count'))\n",
    "\n",
    "with plt.rc_context({\n",
    "    \"axes.spines.right\": False,\n",
    "    \"axes.spines.top\": False,\n",
    "}): \n",
    "    plt.bar(range(0,bins_count), data['count'], width=1, align='edge', edgecolor='#0065BD', linewidth=1.4, color=\"#6AADE4\")\n",
    "    plt.xlabel('Binned rank on Heureka.cz') \n",
    "    plt.ylabel('\\# of webshops') \n",
    "    plt.title('Webshops using any of the five e-commerce solutions', fontsize=14) \n",
    "    plt.xticks(range(0,bins_count+4,10),[0,2000,4000,6000,8000,10000])\n",
    "    plt.yticks(range(0,150,25))\n",
    "    plt.gcf().set_size_inches(5,2)\n",
    "    plt.savefig('../../../thesis/media/graphs/e-commercesolution-histogram.pgf')"
   ]
  },
  {
   "cell_type": "code",
   "execution_count": 44,
   "metadata": {},
   "outputs": [
    {
     "name": "stderr",
     "output_type": "stream",
     "text": [
      "<ipython-input-44-8a44d92bd951>:38: UserWarning: Matplotlib is currently using module://ipykernel.pylab.backend_inline, which is a non-GUI backend, so cannot show the figure.\n",
      "  fig.show()\n"
     ]
    },
    {
     "data": {
      "image/png": "[encoded data removed]",
      "text/plain": [
       "<Figure size 396x288 with 6 Axes>"
      ]
     },
     "metadata": {
      "needs_background": "light"
     },
     "output_type": "display_data"
    }
   ],
   "source": [
    "solutions = ['shoptet', 'eshop-rychle', 'fastcentrik', 'upgates', 'webnode']\n",
    "names = ['Shoptet.cz', 'Eshop-rychle.cz', 'FASTCentrik.cz', 'Upgates.cz', 'Webnode.cz', 'Sum of all solutions']\n",
    "\n",
    "fig, axs = plt.subplots(3,2,sharex=True)\n",
    "fig.text(0.5, 0.97, 'Distributions of the five e-commerce solutions', fontsize=14, ha='center') \n",
    "\n",
    "datas = []\n",
    "ymajorticks = [(120, 20), (30, 5), (5, 1), (5, 1), (5, 1), (150, 25)]\n",
    "i=0\n",
    "plt.tight_layout(rect=[0.02, 0.06, 1, 0.94],h_pad=1.5) \n",
    "for solution in solutions:\n",
    "    df_by_solution = df_ecommerce[df_ecommerce['e-shop'] == solution]\n",
    "    datas.append(df_by_solution[['binned_rank', 'rank']].groupby('binned_rank').agg(count=('binned_rank','count')))\n",
    "    i+=1\n",
    "    \n",
    "i=0\n",
    "for row in axs:\n",
    "    for ax in row:\n",
    "        with plt.rc_context({\n",
    "            \"axes.spines.right\": False,\n",
    "            \"axes.spines.top\": False,\n",
    "        }):  \n",
    "            if i == 5:\n",
    "                ax.bar(range(0,bins_count), data['count'], width=1, align='edge', edgecolor='#0065BD', linewidth=1.4, color=\"#6AADE4\")\n",
    "            else:\n",
    "                ax.bar(range(0,bins_count), datas[i]['count'], width=1, edgecolor=\"#0065BD\", align='edge', linewidth=1.4, color=\"#6AADE4\")\n",
    "            plt.sca(ax)\n",
    "            plt.xticks(range(0,bins_count+4,10),[0,2000,4000,6000,8000,10000])\n",
    "            plt.yticks(range(0,ymajorticks[i][0],ymajorticks[i][1]))\n",
    "            plt.title(names[i], fontsize=8)\n",
    "            plt.gcf().set_size_inches(12,6)\n",
    "            i+=1\n",
    "                    \n",
    "plt.gcf().set_size_inches(5.5,4)\n",
    "fig.text(0.275, 0.06, 'Binned rank on Heureka.cz', ha='center')\n",
    "fig.text(0.755, 0.06, 'Binned rank on Heureka.cz', ha='center')\n",
    "fig.text(0, 0.50, '\\# webshops', va='center', rotation='vertical')\n",
    "fig.show()\n",
    "plt.savefig('../../../thesis/media/graphs/ecommerce-solutions-histograms.pgf')\n",
    "datas.append(df_by_solution[['binned_rank', 'rank']].groupby('binned_rank').agg(count=('binned_rank','count')))"
   ]
  },
  {
   "cell_type": "code",
   "execution_count": 45,
   "metadata": {},
   "outputs": [],
   "source": [
    "dataset_length = 10000\n",
    "bin_size = 200;\n",
    "bins_count = int(dataset_length/bin_size)\n",
    "bins = np.linspace(0,dataset_length,bins_count+1)\n",
    "\n",
    "df_ecommerce['binned_rank'] = pd.cut(df_ecommerce['rank'], bins)\n",
    "\n",
    "data = df_ecommerce[['binned_rank', 'rank']].groupby('binned_rank').agg(count=('binned_rank','count'))\n",
    "\n",
    "datas = []\n",
    "i=0\n",
    "for solution in solutions:\n",
    "    df_by_solution = df_ecommerce[df_ecommerce['e-shop'] == solution]\n",
    "    datas.append(df_by_solution[['binned_rank', 'rank']].groupby('binned_rank').agg(count=('binned_rank','count')))\n",
    "    i+=1"
   ]
  },
  {
   "cell_type": "code",
   "execution_count": 46,
   "metadata": {},
   "outputs": [
    {
     "data": {
      "image/png": "[encoded data removed]",
      "text/plain": [
       "<Figure size 396x288 with 1 Axes>"
      ]
     },
     "metadata": {
      "needs_background": "light"
     },
     "output_type": "display_data"
    }
   ],
   "source": [
    "with plt.rc_context({\n",
    "    \"axes.spines.right\": False,\n",
    "    \"axes.spines.top\": False,\n",
    "}): \n",
    "    plt.tight_layout()\n",
    "    plt.stackplot(range(0,bins_count),\n",
    "                  (datas[4]/data)['count'],\n",
    "                  (datas[3]/data)['count'],\n",
    "                  (datas[2]/data)['count'],\n",
    "                  (datas[1]/data)['count'],\n",
    "                  (datas[0]/data)['count'],\n",
    "                  labels=['Shoptet.cz', 'Eshop-rychle.cz', 'FASTCentrik.cz', 'Upgates.cz', 'Webnode.cz'])\n",
    "    plt.gcf().set_size_inches(5.5,4)\n",
    "    plt.legend()\n",
    "    plt.show()"
   ]
  },
  {
   "cell_type": "markdown",
   "metadata": {},
   "source": [
    "## Which dark patterns are used by different e-commerce solutions.\n",
    "\n",
    "Firstly, generate a file of used e-commerce solutions for websites via Jupyter notebook in e-commerce-solutions folder."
   ]
  },
  {
   "cell_type": "code",
   "execution_count": 47,
   "metadata": {},
   "outputs": [],
   "source": [
    "df_ecommerce = pd.read_csv('../../../data/e-commerce-solutions.csv', delimiter=\";\")\n",
    "df_ecommerce['Domain'] = df_ecommerce['domain'].str.replace('www.', '')\n",
    "del df_ecommerce['domain']"
   ]
  },
  {
   "cell_type": "code",
   "execution_count": 48,
   "metadata": {},
   "outputs": [
    {
     "data": {
      "text/plain": [
       "(675, 16)"
      ]
     },
     "execution_count": 48,
     "metadata": {},
     "output_type": "execute_result"
    }
   ],
   "source": [
    "df_ecommerce = pd.merge(df_ecommerce,df,on='Domain',how='inner')\n",
    "df_ecommerce.shape"
   ]
  },
  {
   "cell_type": "code",
   "execution_count": 49,
   "metadata": {},
   "outputs": [
    {
     "data": {
      "text/html": [
       "<div>\n",
       "<style scoped>\n",
       "    .dataframe tbody tr th:only-of-type {\n",
       "        vertical-align: middle;\n",
       "    }\n",
       "\n",
       "    .dataframe tbody tr th {\n",
       "        vertical-align: top;\n",
       "    }\n",
       "\n",
       "    .dataframe thead tr th {\n",
       "        text-align: left;\n",
       "    }\n",
       "\n",
       "    .dataframe thead tr:last-of-type th {\n",
       "        text-align: right;\n",
       "    }\n",
       "</style>\n",
       "<table border=\"1\" class=\"dataframe\">\n",
       "  <thead>\n",
       "    <tr>\n",
       "      <th></th>\n",
       "      <th></th>\n",
       "      <th colspan=\"2\" halign=\"left\">Domain</th>\n",
       "    </tr>\n",
       "    <tr>\n",
       "      <th></th>\n",
       "      <th></th>\n",
       "      <th>count</th>\n",
       "      <th>nunique</th>\n",
       "    </tr>\n",
       "    <tr>\n",
       "      <th>Pattern Type</th>\n",
       "      <th>e-shop</th>\n",
       "      <th></th>\n",
       "      <th></th>\n",
       "    </tr>\n",
       "  </thead>\n",
       "  <tbody>\n",
       "    <tr>\n",
       "      <th rowspan=\"4\" valign=\"top\">Activity Message</th>\n",
       "      <th>eshop-rychle</th>\n",
       "      <td>5</td>\n",
       "      <td>5</td>\n",
       "    </tr>\n",
       "    <tr>\n",
       "      <th>fastcentrik</th>\n",
       "      <td>5</td>\n",
       "      <td>3</td>\n",
       "    </tr>\n",
       "    <tr>\n",
       "      <th>shoptet</th>\n",
       "      <td>24</td>\n",
       "      <td>20</td>\n",
       "    </tr>\n",
       "    <tr>\n",
       "      <th>upgates</th>\n",
       "      <td>2</td>\n",
       "      <td>2</td>\n",
       "    </tr>\n",
       "    <tr>\n",
       "      <th>Countdown Timer</th>\n",
       "      <th>shoptet</th>\n",
       "      <td>2</td>\n",
       "      <td>2</td>\n",
       "    </tr>\n",
       "    <tr>\n",
       "      <th rowspan=\"4\" valign=\"top\">Forced Enrollment</th>\n",
       "      <th>eshop-rychle</th>\n",
       "      <td>7</td>\n",
       "      <td>4</td>\n",
       "    </tr>\n",
       "    <tr>\n",
       "      <th>fastcentrik</th>\n",
       "      <td>1</td>\n",
       "      <td>1</td>\n",
       "    </tr>\n",
       "    <tr>\n",
       "      <th>shoptet</th>\n",
       "      <td>1</td>\n",
       "      <td>1</td>\n",
       "    </tr>\n",
       "    <tr>\n",
       "      <th>upgates</th>\n",
       "      <td>1</td>\n",
       "      <td>1</td>\n",
       "    </tr>\n",
       "    <tr>\n",
       "      <th>Hard to Cancel</th>\n",
       "      <th>eshop-rychle</th>\n",
       "      <td>1</td>\n",
       "      <td>1</td>\n",
       "    </tr>\n",
       "    <tr>\n",
       "      <th>High-demand Message</th>\n",
       "      <th>shoptet</th>\n",
       "      <td>1</td>\n",
       "      <td>1</td>\n",
       "    </tr>\n",
       "    <tr>\n",
       "      <th>Limited-time Message</th>\n",
       "      <th>shoptet</th>\n",
       "      <td>2</td>\n",
       "      <td>2</td>\n",
       "    </tr>\n",
       "    <tr>\n",
       "      <th>Low-stock Message</th>\n",
       "      <th>shoptet</th>\n",
       "      <td>1</td>\n",
       "      <td>1</td>\n",
       "    </tr>\n",
       "    <tr>\n",
       "      <th rowspan=\"4\" valign=\"top\">Pressured Selling</th>\n",
       "      <th>eshop-rychle</th>\n",
       "      <td>3</td>\n",
       "      <td>3</td>\n",
       "    </tr>\n",
       "    <tr>\n",
       "      <th>fastcentrik</th>\n",
       "      <td>11</td>\n",
       "      <td>9</td>\n",
       "    </tr>\n",
       "    <tr>\n",
       "      <th>shoptet</th>\n",
       "      <td>13</td>\n",
       "      <td>11</td>\n",
       "    </tr>\n",
       "    <tr>\n",
       "      <th>upgates</th>\n",
       "      <td>1</td>\n",
       "      <td>1</td>\n",
       "    </tr>\n",
       "    <tr>\n",
       "      <th rowspan=\"3\" valign=\"top\">Trick Questions</th>\n",
       "      <th>fastcentrik</th>\n",
       "      <td>1</td>\n",
       "      <td>1</td>\n",
       "    </tr>\n",
       "    <tr>\n",
       "      <th>shoptet</th>\n",
       "      <td>2</td>\n",
       "      <td>2</td>\n",
       "    </tr>\n",
       "    <tr>\n",
       "      <th>upgates</th>\n",
       "      <td>1</td>\n",
       "      <td>1</td>\n",
       "    </tr>\n",
       "    <tr>\n",
       "      <th rowspan=\"2\" valign=\"top\">Visual Interference</th>\n",
       "      <th>eshop-rychle</th>\n",
       "      <td>2</td>\n",
       "      <td>1</td>\n",
       "    </tr>\n",
       "    <tr>\n",
       "      <th>upgates</th>\n",
       "      <td>1</td>\n",
       "      <td>1</td>\n",
       "    </tr>\n",
       "  </tbody>\n",
       "</table>\n",
       "</div>"
      ],
      "text/plain": [
       "                                  Domain        \n",
       "                                   count nunique\n",
       "Pattern Type         e-shop                     \n",
       "Activity Message     eshop-rychle      5       5\n",
       "                     fastcentrik       5       3\n",
       "                     shoptet          24      20\n",
       "                     upgates           2       2\n",
       "Countdown Timer      shoptet           2       2\n",
       "Forced Enrollment    eshop-rychle      7       4\n",
       "                     fastcentrik       1       1\n",
       "                     shoptet           1       1\n",
       "                     upgates           1       1\n",
       "Hard to Cancel       eshop-rychle      1       1\n",
       "High-demand Message  shoptet           1       1\n",
       "Limited-time Message shoptet           2       2\n",
       "Low-stock Message    shoptet           1       1\n",
       "Pressured Selling    eshop-rychle      3       3\n",
       "                     fastcentrik      11       9\n",
       "                     shoptet          13      11\n",
       "                     upgates           1       1\n",
       "Trick Questions      fastcentrik       1       1\n",
       "                     shoptet           2       2\n",
       "                     upgates           1       1\n",
       "Visual Interference  eshop-rychle      2       1\n",
       "                     upgates           1       1"
      ]
     },
     "execution_count": 49,
     "metadata": {},
     "output_type": "execute_result"
    }
   ],
   "source": [
    "df_ecommerce['pattern_string_lower_case'] = df_ecommerce['Pattern String'].apply(lambda x: str(x).lower())\n",
    "df_ecommerce['pattern_string_lower_case'] = df_ecommerce['pattern_string_lower_case'].replace(\"([0-9]+[ ,.-/:]*)+\",\"NUMBER\", regex=True)\n",
    "df_ecommerce = df_ecommerce.sort_values(['e-shop','pattern_string_lower_case'], ascending=(True,True))\n",
    "\n",
    "df_ecommerce_unique = df_ecommerce.drop_duplicates(\n",
    "    subset=['pattern_string_lower_case',\n",
    "            'e-shop',\n",
    "            'Pattern Category',\n",
    "            'Pattern Type',\n",
    "            'Where in website'],\n",
    "    keep='last')\n",
    "\n",
    "df_ecommerce_unique[['Domain','e-shop', 'Pattern Type']].groupby(['Pattern Type','e-shop']).agg({'Domain': ['count', pd.Series.nunique]})"
   ]
  },
  {
   "cell_type": "code",
   "execution_count": null,
   "metadata": {},
   "outputs": [],
   "source": [
    "df['']"
   ]
  }
 ],
 "metadata": {
  "kernelspec": {
   "display_name": "Python 3",
   "language": "python",
   "name": "python3"
  },
  "language_info": {
   "codemirror_mode": {
    "name": "ipython",
    "version": 3
   },
   "file_extension": ".py",
   "mimetype": "text/x-python",
   "name": "python",
   "nbconvert_exporter": "python",
   "pygments_lexer": "ipython3",
   "version": "3.8.3"
  }
 },
 "nbformat": 4,
 "nbformat_minor": 4
}
