{
 "cells": [
  {
   "cell_type": "markdown",
   "metadata": {},
   "source": [
    "# Clustering Post-hoc Analysis"
   ]
  },
  {
   "cell_type": "markdown",
   "metadata": {},
   "source": [
    "This notebook analyses the clustering output marked by the coders."
   ]
  },
  {
   "cell_type": "markdown",
   "metadata": {},
   "source": [
    "## First pass at saved clusters"
   ]
  },
  {
   "cell_type": "code",
   "execution_count": 1,
   "metadata": {},
   "outputs": [],
   "source": [
    "directory = '/mnt/5tb/dark-patterns-output/'\n",
    "\n",
    "saved_clusters = []\n",
    "\n",
    "with open(directory + 'saved_first_pass_arunesh.txt') as f:\n",
    "    for line in f.readlines():\n",
    "        saved_clusters.append(int(line))"
   ]
  },
  {
   "cell_type": "markdown",
   "metadata": {},
   "source": [
    "How many saved clusters?"
   ]
  },
  {
   "cell_type": "code",
   "execution_count": 2,
   "metadata": {},
   "outputs": [
    {
     "data": {
      "text/plain": [
       "1768"
      ]
     },
     "execution_count": 2,
     "metadata": {},
     "output_type": "execute_result"
    }
   ],
   "source": [
    "len(saved_clusters)"
   ]
  },
  {
   "cell_type": "markdown",
   "metadata": {},
   "source": [
    "Read in the clustering output and extract the segment texts."
   ]
  },
  {
   "cell_type": "code",
   "execution_count": 3,
   "metadata": {},
   "outputs": [
    {
     "data": {
      "text/plain": [
       "1240588"
      ]
     },
     "execution_count": 3,
     "metadata": {},
     "output_type": "execute_result"
    }
   ],
   "source": [
    "import pandas as pd\n",
    "\n",
    "segment_clusters = pd.read_pickle(directory + 'clusters_with_processed_text.pickle')\n",
    "len(segment_clusters.index)"
   ]
  },
  {
   "cell_type": "code",
   "execution_count": 4,
   "metadata": {},
   "outputs": [
    {
     "data": {
      "text/plain": [
       "178584"
      ]
     },
     "execution_count": 4,
     "metadata": {},
     "output_type": "execute_result"
    }
   ],
   "source": [
    "segment_clusters_saved = segment_clusters[segment_clusters.cluster_10_bow_euc.isin(saved_clusters)]\n",
    "len(segment_clusters_saved.index)"
   ]
  },
  {
   "cell_type": "markdown",
   "metadata": {},
   "source": [
    "Let's go back and label the original segments for the second pass."
   ]
  },
  {
   "cell_type": "code",
   "execution_count": 5,
   "metadata": {},
   "outputs": [
    {
     "name": "stderr",
     "output_type": "stream",
     "text": [
      "1850895it [00:27, 67543.92it/s]\n"
     ]
    }
   ],
   "source": [
    "import json\n",
    "from tqdm import tqdm\n",
    "\n",
    "segments_json = directory + 'segments.json'\n",
    "\n",
    "saved_clusters = dict(zip(segment_clusters_saved.inner_text_processed.values, segment_clusters_saved.cluster_10_bow_euc.values))\n",
    "saved_clusters_set = set(saved_clusters.keys())\n",
    "\n",
    "segments_second_pass_text = []\n",
    "segments_second_pass_hostname = []\n",
    "segments_second_pass_site_url = []\n",
    "segments_second_pass_cluster_id = []\n",
    "\n",
    "with open(segments_json) as f:\n",
    "    \n",
    "    for line in tqdm(f):\n",
    "        segment = json.loads(line)\n",
    "        \n",
    "        if segment['inner_text_processed'] in saved_clusters_set:\n",
    "            segments_second_pass_text.append(segment['inner_text'])\n",
    "            segments_second_pass_hostname.append(segment['hostname'])\n",
    "            segments_second_pass_site_url.append(segment['site_url'])\n",
    "            segments_second_pass_cluster_id.append(saved_clusters[segment['inner_text_processed']])\n",
    "            "
   ]
  },
  {
   "cell_type": "code",
   "execution_count": 6,
   "metadata": {},
   "outputs": [],
   "source": [
    "segments_second_pass = pd.DataFrame({'hostname': segments_second_pass_hostname, \n",
    "                                     'inner_text': segments_second_pass_text,\n",
    "                                     'site_url': segments_second_pass_site_url,\n",
    "                                     'cluster_id': segments_second_pass_cluster_id})"
   ]
  },
  {
   "cell_type": "code",
   "execution_count": 7,
   "metadata": {},
   "outputs": [
    {
     "data": {
      "text/plain": [
       "267380"
      ]
     },
     "execution_count": 7,
     "metadata": {},
     "output_type": "execute_result"
    }
   ],
   "source": [
    "len(segments_second_pass.index)"
   ]
  },
  {
   "cell_type": "markdown",
   "metadata": {},
   "source": [
    "Shuffle the segments and write them to disk."
   ]
  },
  {
   "cell_type": "code",
   "execution_count": 8,
   "metadata": {},
   "outputs": [],
   "source": [
    "segments_second_pass = segments_second_pass.sample(frac=1.0)\n",
    "segments_second_pass.to_pickle(directory + 'segments_second_pass.pickle')\n",
    "segments_second_pass.to_csv(directory + 'segments_second_pass.csv', encoding='utf-8', index=False)"
   ]
  }
 ],
 "metadata": {
  "kernelspec": {
   "display_name": "Python 2",
   "language": "python",
   "name": "python2"
  },
  "language_info": {
   "codemirror_mode": {
    "name": "ipython",
    "version": 2
   },
   "file_extension": ".py",
   "mimetype": "text/x-python",
   "name": "python",
   "nbconvert_exporter": "python",
   "pygments_lexer": "ipython2",
   "version": "2.7.15rc1"
  }
 },
 "nbformat": 4,
 "nbformat_minor": 2
}
