{
 "cells": [
  {
   "cell_type": "markdown",
   "metadata": {},
   "source": [
    "# Crawl Data Analysis: Proprocessing\n",
    "\n",
    "This notebook preprocesses our web crawl data, and makes it ready to use. It was written for Python 2.7. Note that you will have to run this twice, once for each database (odin & webtap). Please adjust the input and output file names accordingly.\n",
    "\n",
    "\n",
    "\n",
    "@NOTE: Rewriten into Python3 (Petr Hanzl)"
   ]
  },
  {
   "cell_type": "code",
   "execution_count": 2,
   "metadata": {
    "ExecuteTime": {
     "end_time": "2019-02-08T16:54:39.699730Z",
     "start_time": "2019-02-08T16:54:39.276781Z"
    },
    "run_control": {
     "marked": true
    }
   },
   "outputs": [],
   "source": [
    "from __future__ import print_function\n",
    "import matplotlib.pyplot as plt\n",
    "from mpl_toolkits.mplot3d import Axes3D\n",
    "import numpy as np\n",
    "import os"
   ]
  },
  {
   "cell_type": "markdown",
   "metadata": {},
   "source": [
    "## Read from database\n",
    "\n",
    "Read the crawl data from the database. Here we read in the `site_visits` and `segments` tables and join them."
   ]
  },
  {
   "cell_type": "code",
   "execution_count": 3,
   "metadata": {
    "ExecuteTime": {
     "end_time": "2019-02-08T16:54:40.534912Z",
     "start_time": "2019-02-08T16:54:39.801450Z"
    },
    "run_control": {
     "marked": true
    }
   },
   "outputs": [],
   "source": [
    "import sqlite3\n",
    "import pandas as pd\n",
    "\n",
    "#db = '/mnt/ssd/amathur/dark-patterns-databases/odin-product-pages.sqlite'\n",
    "db = '/home/xhanpet/20210615-022920_segmentation_pilot/20210615-022920_segmentation_pilot.sqlite'\n",
    "con = sqlite3.connect(db)\n",
    "site_visits = pd.read_sql_query('''SELECT * from site_visits''', con)"
   ]
  },
  {
   "cell_type": "code",
   "execution_count": 4,
   "metadata": {
    "ExecuteTime": {
     "end_time": "2019-02-08T16:54:40.625091Z",
     "start_time": "2019-02-08T16:54:40.617267Z"
    },
    "run_control": {
     "marked": true
    }
   },
   "outputs": [
    {
     "name": "stdout",
     "output_type": "stream",
     "text": [
      "Number of site visits: (957, 3)\n",
      "site_visits columns: ['visit_id', 'crawl_id', 'site_url']\n"
     ]
    }
   ],
   "source": [
    "print('Number of site visits: %s' % str(site_visits.shape))\n",
    "print('site_visits columns: %s' % str(list(site_visits.columns.values)))"
   ]
  },
  {
   "cell_type": "markdown",
   "metadata": {
    "ExecuteTime": {
     "end_time": "2019-02-08T16:58:38.952904Z",
     "start_time": "2019-02-08T16:54:40.859381Z"
    },
    "run_control": {
     "marked": true
    }
   },
   "source": [
    "## Pull the segment data out using stream processing"
   ]
  },
  {
   "cell_type": "code",
   "execution_count": 6,
   "metadata": {},
   "outputs": [],
   "source": [
    "from urllib.parse import urlparse\n",
    "from collections import defaultdict\n",
    "import binascii\n",
    "import json\n",
    "from tqdm import tqdm\n",
    "import re\n",
    "\n",
    "con = sqlite3.connect(db)\n",
    "con.row_factory = sqlite3.Row\n",
    "cur = con.cursor()\n",
    "\n",
    "query = \"\"\"SELECT sv.site_url, sv.visit_id,\n",
    "    sg.id, sg.node_name, sg.node_id, sg.top, sg.left, sg.width, sg.height, \n",
    "    sg.num_buttons, sg.num_imgs, sg.num_anchors,\n",
    "    TRIM(sg.inner_text) as inner_text, TRIM(sg.longest_text) as longest_text\n",
    "    FROM segments as sg LEFT JOIN site_visits as sv\n",
    "    ON sv.visit_id = sg.visit_id WHERE\n",
    "    LOWER(sg.node_name) <> 'body' AND TRIM(sg.inner_text) <> ''\n",
    "    \"\"\""
   ]
  },
  {
   "cell_type": "code",
   "execution_count": 1,
   "metadata": {},
   "outputs": [],
   "source": [
    "#segment_json = '/mnt/ssd/amathur/dark-patterns-output/segments_odin.json'\n",
    "segment_json = '/home/xhanpet/analysis-data/segments.json'"
   ]
  },
  {
   "cell_type": "code",
   "execution_count": 8,
   "metadata": {},
   "outputs": [
    {
     "name": "stderr",
     "output_type": "stream",
     "text": [
      "522it [00:00, 5218.86it/s]"
     ]
    },
    {
     "name": "stdout",
     "output_type": "stream",
     "text": [
      "Removed /home/xhanpet/segments-output/segments.json \n"
     ]
    },
    {
     "name": "stderr",
     "output_type": "stream",
     "text": [
      "168143it [00:05, 32684.98it/s]\n"
     ]
    }
   ],
   "source": [
    "try:\n",
    "    os.remove(segment_json)\n",
    "    print ('Removed %s ' % segment_json)\n",
    "except:\n",
    "    pass\n",
    "\n",
    "seen_checksums = defaultdict(set)\n",
    "seen_host_checksums = set()\n",
    "\n",
    "with open(segment_json, \"a\") as f:\n",
    "    for row in tqdm(cur.execute(query)):\n",
    "        inner_processed = row['inner_text'].replace('\\n', ' ').replace('\\r', '')\n",
    "        inner_processed = re.sub(r'\\d+', 'DPNUM', inner_processed)\n",
    "        hostname = urlparse(row['site_url']).hostname\n",
    "        inner_processed_crc = binascii.crc32(inner_processed.encode('utf-8'))\n",
    "        if (hostname, inner_processed_crc) in seen_host_checksums:\n",
    "            continue\n",
    "        seen_host_checksums.add((hostname, inner_processed_crc))\n",
    "        # if inner_processed_crc in seen_checksums[hostname]:\n",
    "        #    continue\n",
    "        # seen_checksums[hostname].add(inner_processed_crc)\n",
    "        row_d = dict(row)\n",
    "        row_d['inner_text_processed'] = inner_processed\n",
    "        row_d['hostname'] = hostname\n",
    "        json.dump(row_d, f)\n",
    "        f.write('\\n')"
   ]
  },
  {
   "cell_type": "code",
   "execution_count": 9,
   "metadata": {},
   "outputs": [
    {
     "name": "stdout",
     "output_type": "stream",
     "text": [
      "23151 /home/xhanpet/segments-output/segments.json\r\n"
     ]
    }
   ],
   "source": [
    "! wc -l /home/xhanpet/analysis-data/segments.json"
   ]
  }
 ],
 "metadata": {
  "kernelspec": {
   "display_name": "Python 3",
   "language": "python",
   "name": "python3"
  },
  "language_info": {
   "codemirror_mode": {
    "name": "ipython",
    "version": 3
   },
   "file_extension": ".py",
   "mimetype": "text/x-python",
   "name": "python",
   "nbconvert_exporter": "python",
   "pygments_lexer": "ipython3",
   "version": "3.8.5"
  }
 },
 "nbformat": 4,
 "nbformat_minor": 2
}
