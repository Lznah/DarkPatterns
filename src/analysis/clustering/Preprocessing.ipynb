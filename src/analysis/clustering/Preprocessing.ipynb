{
 "cells": [
  {
   "cell_type": "markdown",
   "metadata": {},
   "source": [
    "# Crawl Data Analysis: Proprocessing\n",
    "\n",
    "This notebook preprocesses our web crawl data, and makes it ready to use. It was written for Python 2.7. Note that you will have to run this twice, once for each database (odin & webtap). Please adjust the input and output file names accordingly."
   ]
  },
  {
   "cell_type": "code",
   "execution_count": 21,
   "metadata": {
    "ExecuteTime": {
     "end_time": "2019-02-08T16:54:39.699730Z",
     "start_time": "2019-02-08T16:54:39.276781Z"
    },
    "run_control": {
     "marked": true
    }
   },
   "outputs": [],
   "source": [
    "from __future__ import print_function\n",
    "import matplotlib.pyplot as plt\n",
    "from mpl_toolkits.mplot3d import Axes3D\n",
    "import numpy as np\n",
    "import os"
   ]
  },
  {
   "cell_type": "markdown",
   "metadata": {},
   "source": [
    "## Read from database\n",
    "\n",
    "Read the crawl data from the database. Here we read in the `site_visits` and `segments` tables and join them."
   ]
  },
  {
   "cell_type": "code",
   "execution_count": 28,
   "metadata": {
    "ExecuteTime": {
     "end_time": "2019-02-08T16:54:40.534912Z",
     "start_time": "2019-02-08T16:54:39.801450Z"
    },
    "run_control": {
     "marked": true
    }
   },
   "outputs": [],
   "source": [
    "import sqlite3\n",
    "import pandas as pd\n",
    "\n",
    "#db = '/mnt/ssd/amathur/dark-patterns-databases/odin-product-pages.sqlite'\n",
    "db = '/mnt/ssd/amathur/dark-patterns-databases/webtap-product-pages.sqlite'\n",
    "con = sqlite3.connect(db)\n",
    "site_visits = pd.read_sql_query('''SELECT * from site_visits''', con)"
   ]
  },
  {
   "cell_type": "code",
   "execution_count": 29,
   "metadata": {
    "ExecuteTime": {
     "end_time": "2019-02-08T16:54:40.625091Z",
     "start_time": "2019-02-08T16:54:40.617267Z"
    },
    "run_control": {
     "marked": true
    }
   },
   "outputs": [
    {
     "name": "stdout",
     "output_type": "stream",
     "text": [
      "Number of site visits: (26684, 3)\n",
      "site_visits columns: ['visit_id', 'crawl_id', 'site_url']\n"
     ]
    }
   ],
   "source": [
    "print('Number of site visits: %s' % str(site_visits.shape))\n",
    "print('site_visits columns: %s' % str(list(site_visits.columns.values)))"
   ]
  },
  {
   "cell_type": "markdown",
   "metadata": {
    "ExecuteTime": {
     "end_time": "2019-02-08T16:58:38.952904Z",
     "start_time": "2019-02-08T16:54:40.859381Z"
    },
    "run_control": {
     "marked": true
    }
   },
   "source": [
    "## Pull the segment data out using stream processing"
   ]
  },
  {
   "cell_type": "code",
   "execution_count": 30,
   "metadata": {},
   "outputs": [],
   "source": [
    "from urlparse import urlparse\n",
    "from collections import defaultdict\n",
    "import binascii\n",
    "import json\n",
    "from tqdm import tqdm\n",
    "import re\n",
    "\n",
    "con = sqlite3.connect(db)\n",
    "con.row_factory = sqlite3.Row\n",
    "cur = con.cursor()\n",
    "\n",
    "query = \"\"\"SELECT sv.site_url, sv.visit_id,\n",
    "    sg.id, sg.node_name, sg.node_id, sg.top, sg.left, sg.width, sg.height, \n",
    "    sg.num_buttons, sg.num_imgs, sg.num_anchors,\n",
    "    TRIM(sg.inner_text) as inner_text, TRIM(sg.longest_text) as longest_text\n",
    "    FROM segments as sg LEFT JOIN site_visits as sv\n",
    "    ON sv.visit_id = sg.visit_id WHERE\n",
    "    LOWER(sg.node_name) <> 'body' AND TRIM(sg.inner_text) <> ''\n",
    "    \"\"\""
   ]
  },
  {
   "cell_type": "code",
   "execution_count": 31,
   "metadata": {},
   "outputs": [],
   "source": [
    "#segment_json = '/mnt/ssd/amathur/dark-patterns-output/segments_odin.json'\n",
    "segment_json = '/mnt/ssd/amathur/dark-patterns-output/segments_webtap.json'"
   ]
  },
  {
   "cell_type": "code",
   "execution_count": 32,
   "metadata": {},
   "outputs": [
    {
     "name": "stderr",
     "output_type": "stream",
     "text": [
      "7444925it [18:19, 6772.65it/s] \n"
     ]
    }
   ],
   "source": [
    "try:\n",
    "    os.remove(segment_json)\n",
    "    print ('Removed %s ' % segment_json)\n",
    "except:\n",
    "    pass\n",
    "\n",
    "seen_checksums = defaultdict(set)\n",
    "seen_host_checksums = set()\n",
    "\n",
    "with open(segment_json, \"a\") as f:\n",
    "    for row in tqdm(cur.execute(query)):\n",
    "        inner_processed = row['inner_text'].replace('\\n', ' ').replace('\\r', '')\n",
    "        inner_processed = re.sub(r'\\d+', 'DPNUM', inner_processed)\n",
    "        hostname = urlparse(row['site_url']).hostname\n",
    "        inner_processed_crc = binascii.crc32(inner_processed.encode('utf-8'))\n",
    "        if (hostname, inner_processed_crc) in seen_host_checksums:\n",
    "            continue\n",
    "        seen_host_checksums.add((hostname, inner_processed_crc))\n",
    "        # if inner_processed_crc in seen_checksums[hostname]:\n",
    "        #    continue\n",
    "        # seen_checksums[hostname].add(inner_processed_crc)\n",
    "        row_d = dict(row)\n",
    "        row_d['inner_text_processed'] = inner_processed\n",
    "        row_d['hostname'] = hostname\n",
    "        json.dump(row_d, f)\n",
    "        f.write('\\n')"
   ]
  },
  {
   "cell_type": "code",
   "execution_count": 27,
   "metadata": {},
   "outputs": [
    {
     "name": "stdout",
     "output_type": "stream",
     "text": [
      "997150 /mnt/ssd/amathur/dark-patterns-output/segments_odin.json\r\n"
     ]
    }
   ],
   "source": [
    "! wc -l /mnt/ssd/amathur/dark-patterns-output/segments_odin.json"
   ]
  },
  {
   "cell_type": "code",
   "execution_count": 33,
   "metadata": {},
   "outputs": [
    {
     "name": "stdout",
     "output_type": "stream",
     "text": [
      "853745 /mnt/ssd/amathur/dark-patterns-output/segments_webtap.json\r\n"
     ]
    }
   ],
   "source": [
    "! wc -l /mnt/ssd/amathur/dark-patterns-output/segments_webtap.json"
   ]
  },
  {
   "cell_type": "code",
   "execution_count": null,
   "metadata": {},
   "outputs": [],
   "source": []
  }
 ],
 "metadata": {
  "kernelspec": {
   "display_name": "Python 2",
   "language": "python",
   "name": "python2"
  },
  "language_info": {
   "codemirror_mode": {
    "name": "ipython",
    "version": 2
   },
   "file_extension": ".py",
   "mimetype": "text/x-python",
   "name": "python",
   "nbconvert_exporter": "python",
   "pygments_lexer": "ipython2",
   "version": "2.7.12"
  }
 },
 "nbformat": 4,
 "nbformat_minor": 2
}
