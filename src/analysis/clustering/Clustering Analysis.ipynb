{
 "cells": [
  {
   "cell_type": "markdown",
   "metadata": {},
   "source": [
    "# Crawl Data Analysis: Clustering"
   ]
  },
  {
   "cell_type": "markdown",
   "metadata": {},
   "source": [
    "This notebook analyses the output of the HDBSCAN clustering algorithm with various parameters.\n",
    "\n",
    "@ Petr Hanzl: Analysis for TFIDF is omitted, because of the same reason as mentioned in Feature Processing.ipynb notebook."
   ]
  },
  {
   "cell_type": "markdown",
   "metadata": {},
   "source": [
    "## Read clustering output"
   ]
  },
  {
   "cell_type": "code",
   "execution_count": 3,
   "metadata": {},
   "outputs": [
    {
     "name": "stdout",
     "output_type": "stream",
     "text": [
      "/home/xhanpet/segments-output/label_10_bow_euclidean\n",
      "/home/xhanpet/segments-output/label_5_bow_euclidean\n",
      "/home/xhanpet/segments-output/label_10_bow_manhattan\n",
      "/home/xhanpet/segments-output/label_5_bow_manhattan\n"
     ]
    }
   ],
   "source": [
    "import pandas as pd\n",
    "\n",
    "directory = '/home/xhanpet/segments-output/'\n",
    "\n",
    "import pickle5 as pickle\n",
    "\n",
    "pb = pickle.PickleBuffer(b\"foo\")\n",
    "data = pickle.dumps(pb, protocol=5)\n",
    "assert pickle.loads(data) == b\"foo\"\n",
    "\n",
    "\n",
    "def read_output(output_file, label_file):\n",
    "    print(directory + label_file)\n",
    "    return (pd.read_csv(directory + output_file, sep='\\s+', header=None, names=['cluster', 'count']),\n",
    "            pd.read_pickle(directory + label_file))\n",
    "(output_10_bow_euc, label_10_bow_euc) = read_output('output_10_bow_euclidean', 'label_10_bow_euclidean')\n",
    "(output_5_bow_euc, label_5_bow_euc) = read_output('output_5_bow_euclidean', 'label_5_bow_euclidean')\n",
    "(output_10_bow_man, label_10_bow_man) = read_output('output_10_bow_manhattan', 'label_10_bow_manhattan')\n",
    "(output_5_bow_man, label_5_bow_man) = read_output('output_5_bow_manhattan', 'label_5_bow_manhattan')"
   ]
  },
  {
   "cell_type": "markdown",
   "metadata": {},
   "source": [
    "## Number of clusters in each"
   ]
  },
  {
   "cell_type": "code",
   "execution_count": 9,
   "metadata": {},
   "outputs": [
    {
     "data": {
      "text/plain": [
       "(89, 2)"
      ]
     },
     "execution_count": 9,
     "metadata": {},
     "output_type": "execute_result"
    }
   ],
   "source": [
    "output_10_bow_euc.shape"
   ]
  },
  {
   "cell_type": "code",
   "execution_count": 10,
   "metadata": {},
   "outputs": [
    {
     "data": {
      "text/plain": [
       "(178, 2)"
      ]
     },
     "execution_count": 10,
     "metadata": {},
     "output_type": "execute_result"
    }
   ],
   "source": [
    "output_5_bow_euc.shape"
   ]
  },
  {
   "cell_type": "code",
   "execution_count": 11,
   "metadata": {},
   "outputs": [
    {
     "data": {
      "text/plain": [
       "(88, 2)"
      ]
     },
     "execution_count": 11,
     "metadata": {},
     "output_type": "execute_result"
    }
   ],
   "source": [
    "output_10_bow_man.shape"
   ]
  },
  {
   "cell_type": "code",
   "execution_count": 12,
   "metadata": {},
   "outputs": [
    {
     "data": {
      "text/plain": [
       "(167, 2)"
      ]
     },
     "execution_count": 12,
     "metadata": {},
     "output_type": "execute_result"
    }
   ],
   "source": [
    "output_5_bow_man.shape"
   ]
  },
  {
   "cell_type": "markdown",
   "metadata": {},
   "source": [
    "## Size of noise cluster in each"
   ]
  },
  {
   "cell_type": "code",
   "execution_count": 13,
   "metadata": {},
   "outputs": [
    {
     "data": {
      "text/plain": [
       "Series([], Name: count, dtype: object)"
      ]
     },
     "execution_count": 13,
     "metadata": {},
     "output_type": "execute_result"
    }
   ],
   "source": [
    "output_10_bow_euc[output_10_bow_euc['cluster'] == -1]['count']"
   ]
  },
  {
   "cell_type": "code",
   "execution_count": 14,
   "metadata": {},
   "outputs": [
    {
     "data": {
      "text/plain": [
       "Series([], Name: count, dtype: object)"
      ]
     },
     "execution_count": 14,
     "metadata": {},
     "output_type": "execute_result"
    }
   ],
   "source": [
    "output_5_bow_euc[output_5_bow_euc['cluster'] == -1]['count']"
   ]
  },
  {
   "cell_type": "code",
   "execution_count": 15,
   "metadata": {},
   "outputs": [
    {
     "data": {
      "text/plain": [
       "Series([], Name: count, dtype: object)"
      ]
     },
     "execution_count": 15,
     "metadata": {},
     "output_type": "execute_result"
    }
   ],
   "source": [
    "output_10_bow_man[output_10_bow_man['cluster'] == -1]['count']"
   ]
  },
  {
   "cell_type": "code",
   "execution_count": 16,
   "metadata": {},
   "outputs": [
    {
     "data": {
      "text/plain": [
       "Series([], Name: count, dtype: object)"
      ]
     },
     "execution_count": 16,
     "metadata": {},
     "output_type": "execute_result"
    }
   ],
   "source": [
    "output_5_bow_man[output_5_bow_man['cluster'] == -1]['count']"
   ]
  },
  {
   "cell_type": "markdown",
   "metadata": {},
   "source": [
    "## Attach the cluster labels to the segments"
   ]
  },
  {
   "cell_type": "code",
   "execution_count": 18,
   "metadata": {},
   "outputs": [
    {
     "name": "stderr",
     "output_type": "stream",
     "text": [
      "18365it [00:00, 41605.66it/s]\n"
     ]
    }
   ],
   "source": [
    "import json\n",
    "from tqdm import tqdm\n",
    "import numpy as np\n",
    "\n",
    "hostname = []\n",
    "inner_text = []\n",
    "inner_text_processed = []\n",
    "\n",
    "with_rows = np.loadtxt(directory + 'rows_with_elements_bow.arr')\n",
    "\n",
    "counter = 0\n",
    "with open(directory + 'segments_unique.json') as f:\n",
    "    for line in tqdm(f):\n",
    "        seg = json.loads(line)\n",
    "        \n",
    "        if counter in with_rows:\n",
    "            hostname.append(seg['hostname'])\n",
    "            inner_text.append(seg['inner_text'])  \n",
    "            inner_text_processed.append(seg['inner_text_processed'])  \n",
    "            \n",
    "        counter += 1\n",
    "\n",
    "frame = pd.DataFrame({'hostname': hostname, \n",
    "                      'inner_text': inner_text, \n",
    "                      'inner_text_processed': inner_text_processed,\n",
    "\n",
    "                      'cluster_10_bow_euc': label_10_bow_euc.values,\n",
    "                      'cluster_5_bow_euc': label_5_bow_euc.values,\n",
    "                      'cluster_10_bow_man': label_10_bow_man.values,\n",
    "                      'cluster_5_bow_man': label_5_bow_man.values,\n",
    "                     })\n"
   ]
  },
  {
   "cell_type": "code",
   "execution_count": 19,
   "metadata": {},
   "outputs": [
    {
     "data": {
      "text/plain": [
       "(13398, 7)"
      ]
     },
     "execution_count": 19,
     "metadata": {},
     "output_type": "execute_result"
    }
   ],
   "source": [
    "frame.shape"
   ]
  },
  {
   "cell_type": "code",
   "execution_count": 20,
   "metadata": {},
   "outputs": [],
   "source": [
    "frame.loc[:, frame.columns != 'inner_text_processed'].to_csv(directory + 'clusters.csv', encoding='utf-8', index=False)\n",
    "\n",
    "frame.to_csv(directory + 'clusters_with_processed_text.csv', encoding='utf-8', index=False)"
   ]
  },
  {
   "cell_type": "code",
   "execution_count": 21,
   "metadata": {},
   "outputs": [],
   "source": [
    "frame.to_pickle(directory + 'clusters_with_processed_text.pickle')"
   ]
  }
 ],
 "metadata": {
  "kernelspec": {
   "display_name": "Python 3",
   "language": "python",
   "name": "python3"
  },
  "language_info": {
   "codemirror_mode": {
    "name": "ipython",
    "version": 3
   },
   "file_extension": ".py",
   "mimetype": "text/x-python",
   "name": "python",
   "nbconvert_exporter": "python",
   "pygments_lexer": "ipython3",
   "version": "3.8.5"
  }
 },
 "nbformat": 4,
 "nbformat_minor": 2
}
