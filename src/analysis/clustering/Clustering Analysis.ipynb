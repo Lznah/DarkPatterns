{
 "cells": [
  {
   "cell_type": "markdown",
   "metadata": {},
   "source": [
    "# Crawl Data Analysis: Clustering"
   ]
  },
  {
   "cell_type": "markdown",
   "metadata": {},
   "source": [
    "This notebook analyses the output of the HDBSCAN clustering algorithm with various parameters."
   ]
  },
  {
   "cell_type": "markdown",
   "metadata": {},
   "source": [
    "## Read clustering output"
   ]
  },
  {
   "cell_type": "code",
   "execution_count": 1,
   "metadata": {},
   "outputs": [],
   "source": [
    "import pandas as pd\n",
    "\n",
    "directory = '/mnt/5tb/dark-patterns-output/'\n",
    "\n",
    "def read_output(output_file, label_file):\n",
    "    return (pd.read_csv(directory + output_file, sep='\\s+', header=None, names=['cluster', 'count']),\n",
    "            pd.read_pickle(directory + label_file))\n",
    "\n",
    "(output_10_bow_euc, label_10_bow_euc) = read_output('output_10_bow_euclidean', 'label_10_bow_euclidean')\n",
    "(output_5_bow_euc, label_5_bow_euc) = read_output('output_5_bow_euclidean', 'label_5_bow_euclidean')\n",
    "(output_10_bow_man, label_10_bow_man) = read_output('output_10_bow_manhattan', 'label_10_bow_manhattan')\n",
    "(output_5_bow_man, label_5_bow_man) = read_output('output_5_bow_manhattan', 'label_5_bow_manhattan')\n",
    "\n",
    "(output_10_tfidf_euc, label_10_tfidf_euc) = read_output('output_10_tfidf_euclidean', 'label_10_tfidf_euclidean')\n",
    "(output_5_tfidf_euc, label_5_tfidf_euc) = read_output('output_5_tfidf_euclidean', 'label_5_tfidf_euclidean')\n",
    "(output_10_tfidf_man, label_10_tfidf_man) = read_output('output_10_tfidf_manhattan', 'label_10_tfidf_manhattan')\n",
    "(output_5_tfidf_man, label_5_tfidf_man) = read_output('output_5_tfidf_manhattan', 'label_5_tfidf_manhattan')"
   ]
  },
  {
   "cell_type": "markdown",
   "metadata": {},
   "source": [
    "## Number of clusters in each"
   ]
  },
  {
   "cell_type": "code",
   "execution_count": 2,
   "metadata": {},
   "outputs": [
    {
     "data": {
      "text/plain": [
       "(10277, 2)"
      ]
     },
     "execution_count": 2,
     "metadata": {},
     "output_type": "execute_result"
    }
   ],
   "source": [
    "output_10_bow_euc.shape"
   ]
  },
  {
   "cell_type": "code",
   "execution_count": 3,
   "metadata": {},
   "outputs": [
    {
     "data": {
      "text/plain": [
       "(22895, 2)"
      ]
     },
     "execution_count": 3,
     "metadata": {},
     "output_type": "execute_result"
    }
   ],
   "source": [
    "output_5_bow_euc.shape"
   ]
  },
  {
   "cell_type": "code",
   "execution_count": 4,
   "metadata": {},
   "outputs": [
    {
     "data": {
      "text/plain": [
       "(9974, 2)"
      ]
     },
     "execution_count": 4,
     "metadata": {},
     "output_type": "execute_result"
    }
   ],
   "source": [
    "output_10_bow_man.shape"
   ]
  },
  {
   "cell_type": "code",
   "execution_count": 5,
   "metadata": {},
   "outputs": [
    {
     "data": {
      "text/plain": [
       "(22081, 2)"
      ]
     },
     "execution_count": 5,
     "metadata": {},
     "output_type": "execute_result"
    }
   ],
   "source": [
    "output_5_bow_man.shape"
   ]
  },
  {
   "cell_type": "code",
   "execution_count": 6,
   "metadata": {},
   "outputs": [
    {
     "data": {
      "text/plain": [
       "(7914, 2)"
      ]
     },
     "execution_count": 6,
     "metadata": {},
     "output_type": "execute_result"
    }
   ],
   "source": [
    "output_10_tfidf_euc.shape"
   ]
  },
  {
   "cell_type": "code",
   "execution_count": 7,
   "metadata": {},
   "outputs": [
    {
     "data": {
      "text/plain": [
       "(24824, 2)"
      ]
     },
     "execution_count": 7,
     "metadata": {},
     "output_type": "execute_result"
    }
   ],
   "source": [
    "output_5_tfidf_euc.shape"
   ]
  },
  {
   "cell_type": "code",
   "execution_count": 8,
   "metadata": {},
   "outputs": [
    {
     "data": {
      "text/plain": [
       "(7493, 2)"
      ]
     },
     "execution_count": 8,
     "metadata": {},
     "output_type": "execute_result"
    }
   ],
   "source": [
    "output_10_tfidf_man.shape"
   ]
  },
  {
   "cell_type": "code",
   "execution_count": 9,
   "metadata": {},
   "outputs": [
    {
     "data": {
      "text/plain": [
       "(23466, 2)"
      ]
     },
     "execution_count": 9,
     "metadata": {},
     "output_type": "execute_result"
    }
   ],
   "source": [
    "output_5_tfidf_man.shape"
   ]
  },
  {
   "cell_type": "markdown",
   "metadata": {},
   "source": [
    "## Size of noise cluster in each"
   ]
  },
  {
   "cell_type": "code",
   "execution_count": 10,
   "metadata": {},
   "outputs": [
    {
     "data": {
      "text/plain": [
       "1    256573\n",
       "Name: count, dtype: int64"
      ]
     },
     "execution_count": 10,
     "metadata": {},
     "output_type": "execute_result"
    }
   ],
   "source": [
    "output_10_bow_euc[output_10_bow_euc['cluster'] == -1]['count']"
   ]
  },
  {
   "cell_type": "code",
   "execution_count": 11,
   "metadata": {},
   "outputs": [
    {
     "data": {
      "text/plain": [
       "1    207168\n",
       "Name: count, dtype: int64"
      ]
     },
     "execution_count": 11,
     "metadata": {},
     "output_type": "execute_result"
    }
   ],
   "source": [
    "output_5_bow_euc[output_5_bow_euc['cluster'] == -1]['count']"
   ]
  },
  {
   "cell_type": "code",
   "execution_count": 12,
   "metadata": {},
   "outputs": [
    {
     "data": {
      "text/plain": [
       "1    263511\n",
       "Name: count, dtype: int64"
      ]
     },
     "execution_count": 12,
     "metadata": {},
     "output_type": "execute_result"
    }
   ],
   "source": [
    "output_10_bow_man[output_10_bow_man['cluster'] == -1]['count']"
   ]
  },
  {
   "cell_type": "code",
   "execution_count": 13,
   "metadata": {},
   "outputs": [
    {
     "data": {
      "text/plain": [
       "1    215928\n",
       "Name: count, dtype: int64"
      ]
     },
     "execution_count": 13,
     "metadata": {},
     "output_type": "execute_result"
    }
   ],
   "source": [
    "output_5_bow_man[output_5_bow_man['cluster'] == -1]['count']"
   ]
  },
  {
   "cell_type": "code",
   "execution_count": 14,
   "metadata": {},
   "outputs": [
    {
     "data": {
      "text/plain": [
       "0    991177\n",
       "Name: count, dtype: int64"
      ]
     },
     "execution_count": 14,
     "metadata": {},
     "output_type": "execute_result"
    }
   ],
   "source": [
    "output_10_tfidf_euc[output_10_tfidf_euc['cluster'] == -1]['count']"
   ]
  },
  {
   "cell_type": "code",
   "execution_count": 15,
   "metadata": {},
   "outputs": [
    {
     "data": {
      "text/plain": [
       "0    896145\n",
       "Name: count, dtype: int64"
      ]
     },
     "execution_count": 15,
     "metadata": {},
     "output_type": "execute_result"
    }
   ],
   "source": [
    "output_5_tfidf_euc[output_5_tfidf_euc['cluster'] == -1]['count']"
   ]
  },
  {
   "cell_type": "code",
   "execution_count": 16,
   "metadata": {},
   "outputs": [
    {
     "data": {
      "text/plain": [
       "0    998743\n",
       "Name: count, dtype: int64"
      ]
     },
     "execution_count": 16,
     "metadata": {},
     "output_type": "execute_result"
    }
   ],
   "source": [
    "output_10_tfidf_man[output_10_tfidf_man['cluster'] == -1]['count']"
   ]
  },
  {
   "cell_type": "code",
   "execution_count": 17,
   "metadata": {},
   "outputs": [
    {
     "data": {
      "text/plain": [
       "0    908278\n",
       "Name: count, dtype: int64"
      ]
     },
     "execution_count": 17,
     "metadata": {},
     "output_type": "execute_result"
    }
   ],
   "source": [
    "output_5_tfidf_man[output_5_tfidf_man['cluster'] == -1]['count']"
   ]
  },
  {
   "cell_type": "markdown",
   "metadata": {},
   "source": [
    "## Attach the cluster labels to the segments"
   ]
  },
  {
   "cell_type": "code",
   "execution_count": 19,
   "metadata": {},
   "outputs": [
    {
     "name": "stderr",
     "output_type": "stream",
     "text": [
      "1287426it [14:00, 1531.14it/s]\n"
     ]
    }
   ],
   "source": [
    "import json\n",
    "from tqdm import tqdm\n",
    "import numpy as np\n",
    "\n",
    "hostname = []\n",
    "inner_text = []\n",
    "inner_text_processed = []\n",
    "\n",
    "with_rows = np.loadtxt(directory + 'rows_with_elements_bow.arr')\n",
    "\n",
    "counter = 0\n",
    "with open(directory + 'segments_unique.json') as f:\n",
    "    for line in tqdm(f):\n",
    "        seg = json.loads(line)\n",
    "        \n",
    "        if counter in with_rows:\n",
    "            hostname.append(seg['hostname'])\n",
    "            inner_text.append(seg['inner_text'])  \n",
    "            inner_text_processed.append(seg['inner_text_processed'])  \n",
    "            \n",
    "        counter += 1\n",
    "\n",
    "frame = pd.DataFrame({'hostname': hostname, \n",
    "                      'inner_text': inner_text, \n",
    "                      'inner_text_processed': inner_text_processed,\n",
    "\n",
    "                      'cluster_10_bow_euc': label_10_bow_euc.values,\n",
    "                      'cluster_5_bow_euc': label_5_bow_euc.values,\n",
    "                      'cluster_10_bow_man': label_10_bow_man.values,\n",
    "                      'cluster_5_bow_man': label_5_bow_man.values,\n",
    "\n",
    "                      'cluster_10_tfidf_euc': label_10_tfidf_euc.values,\n",
    "                      'cluster_5_tfidf_euc': label_5_tfidf_euc.values,\n",
    "                      'cluster_10_tfidf_man': label_10_tfidf_man.values,\n",
    "                      'cluster_5_tfidf_man': label_5_tfidf_man.values})\n"
   ]
  },
  {
   "cell_type": "code",
   "execution_count": 20,
   "metadata": {},
   "outputs": [
    {
     "data": {
      "text/plain": [
       "(1240588, 11)"
      ]
     },
     "execution_count": 20,
     "metadata": {},
     "output_type": "execute_result"
    }
   ],
   "source": [
    "frame.shape"
   ]
  },
  {
   "cell_type": "code",
   "execution_count": 27,
   "metadata": {},
   "outputs": [],
   "source": [
    "frame.loc[:, frame.columns != 'inner_text_processed'].to_csv(directory + 'clusters.csv', encoding='utf-8', index=False)\n",
    "\n",
    "frame.to_csv(directory + 'clusters_with_processed_text.csv', encoding='utf-8', index=False)"
   ]
  },
  {
   "cell_type": "code",
   "execution_count": 28,
   "metadata": {},
   "outputs": [],
   "source": [
    "frame.to_pickle(directory + 'clusters_with_processed_text.pickle')"
   ]
  }
 ],
 "metadata": {
  "kernelspec": {
   "display_name": "Python 2",
   "language": "python",
   "name": "python2"
  },
  "language_info": {
   "codemirror_mode": {
    "name": "ipython",
    "version": 2
   },
   "file_extension": ".py",
   "mimetype": "text/x-python",
   "name": "python",
   "nbconvert_exporter": "python",
   "pygments_lexer": "ipython2",
   "version": "2.7.15rc1"
  }
 },
 "nbformat": 4,
 "nbformat_minor": 2
}
