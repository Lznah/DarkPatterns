{
 "cells": [
  {
   "cell_type": "code",
   "execution_count": 208,
   "metadata": {
    "colab": {},
    "colab_type": "code",
    "id": "fOlbcJ4EIYHd"
   },
   "outputs": [],
   "source": [
    "import math\n",
    "import re\n",
    "import os\n",
    "from IPython import display\n",
    "from matplotlib import cm\n",
    "from matplotlib import gridspec\n",
    "from matplotlib import pyplot as plt\n",
    "import numpy as np\n",
    "from urllib.parse import urlparse, urljoin\n",
    "import pandas as pd\n",
    "from sklearn import metrics\n",
    "# import tensorflow as tf\n",
    "from tensorflow.python.data import Dataset\n",
    "from sklearn.preprocessing import StandardScaler\n",
    "\n",
    "# tf.logging.set_verbosity(tf.logging.ERROR)\n",
    "pd.options.display.max_rows = 10\n",
    "pd.options.display.float_format = '{:.1f}'.format"
   ]
  },
  {
   "cell_type": "code",
   "execution_count": 209,
   "metadata": {},
   "outputs": [],
   "source": [
    "links_df = pd.read_csv(\"../../crawler/extract_links/dataset_product_pages.csv\", delimiter=\",\", index_col=0)"
   ]
  },
  {
   "cell_type": "code",
   "execution_count": 210,
   "metadata": {},
   "outputs": [],
   "source": [
    "# add new column domain\n",
    "links_df['domain'] = links_df.apply(lambda row: urlparse(row['url']).netloc, axis=1)\n",
    "\n",
    "# change order\n",
    "links_df = links_df[['domain','url', 'label']]\n",
    "\n",
    "#  map true/false to 0,1\n",
    "links_df[\"label\"] = links_df[\"label\"].astype(int)"
   ]
  },
  {
   "cell_type": "code",
   "execution_count": 211,
   "metadata": {},
   "outputs": [],
   "source": [
    "from time import time\n",
    "from random import randint\n",
    "from sklearn.model_selection import train_test_split, GroupKFold, cross_val_score\n",
    "import pickle\n"
   ]
  },
  {
   "cell_type": "code",
   "execution_count": 212,
   "metadata": {},
   "outputs": [
    {
     "output_type": "execute_result",
     "data": {
      "text/plain": [
       "                   domain                                                url  \\\n",
       "0        www.alfa-leky.cz  https://www.alfa-leky.cz/2869577-humer-hygiena...   \n",
       "1           www.rustak.cz                 https://www.rustak.cz/pevne-zdravi   \n",
       "2              www.5xl.cz                         https://www.5xl.cz/boxerky   \n",
       "3          www.stample.cz  https://www.stample.cz/Charles-Chaplin-Ondrej-...   \n",
       "4    www.marines-shop.com  https://www.marines-shop.com/obal-na-karimatku...   \n",
       "..                    ...                                                ...   \n",
       "702   promo-pneumatiky.cz            https://promo-pneumatiky.cz/riken-b1414   \n",
       "705   promo-pneumatiky.cz          https://promo-pneumatiky.cz/gripmax-b1626   \n",
       "706        shop.merret.cz                 http://shop.merret.cz/34-om-602uqc   \n",
       "707             eulift.cz  https://eulift.cz/paletove-voziky/paletove-voz...   \n",
       "710      www.alfa-leky.cz  https://www.alfa-leky.cz/novinky/30-lekarnicka...   \n",
       "\n",
       "     label  \n",
       "0        1  \n",
       "1        0  \n",
       "2        0  \n",
       "3        1  \n",
       "4        1  \n",
       "..     ...  \n",
       "702      0  \n",
       "705      0  \n",
       "706      0  \n",
       "707      0  \n",
       "710      0  \n",
       "\n",
       "[630 rows x 3 columns]"
      ],
      "text/html": "<div>\n<style scoped>\n    .dataframe tbody tr th:only-of-type {\n        vertical-align: middle;\n    }\n\n    .dataframe tbody tr th {\n        vertical-align: top;\n    }\n\n    .dataframe thead th {\n        text-align: right;\n    }\n</style>\n<table border=\"1\" class=\"dataframe\">\n  <thead>\n    <tr style=\"text-align: right;\">\n      <th></th>\n      <th>domain</th>\n      <th>url</th>\n      <th>label</th>\n    </tr>\n  </thead>\n  <tbody>\n    <tr>\n      <th>0</th>\n      <td>www.alfa-leky.cz</td>\n      <td>https://www.alfa-leky.cz/2869577-humer-hygiena...</td>\n      <td>1</td>\n    </tr>\n    <tr>\n      <th>1</th>\n      <td>www.rustak.cz</td>\n      <td>https://www.rustak.cz/pevne-zdravi</td>\n      <td>0</td>\n    </tr>\n    <tr>\n      <th>2</th>\n      <td>www.5xl.cz</td>\n      <td>https://www.5xl.cz/boxerky</td>\n      <td>0</td>\n    </tr>\n    <tr>\n      <th>3</th>\n      <td>www.stample.cz</td>\n      <td>https://www.stample.cz/Charles-Chaplin-Ondrej-...</td>\n      <td>1</td>\n    </tr>\n    <tr>\n      <th>4</th>\n      <td>www.marines-shop.com</td>\n      <td>https://www.marines-shop.com/obal-na-karimatku...</td>\n      <td>1</td>\n    </tr>\n    <tr>\n      <th>...</th>\n      <td>...</td>\n      <td>...</td>\n      <td>...</td>\n    </tr>\n    <tr>\n      <th>702</th>\n      <td>promo-pneumatiky.cz</td>\n      <td>https://promo-pneumatiky.cz/riken-b1414</td>\n      <td>0</td>\n    </tr>\n    <tr>\n      <th>705</th>\n      <td>promo-pneumatiky.cz</td>\n      <td>https://promo-pneumatiky.cz/gripmax-b1626</td>\n      <td>0</td>\n    </tr>\n    <tr>\n      <th>706</th>\n      <td>shop.merret.cz</td>\n      <td>http://shop.merret.cz/34-om-602uqc</td>\n      <td>0</td>\n    </tr>\n    <tr>\n      <th>707</th>\n      <td>eulift.cz</td>\n      <td>https://eulift.cz/paletove-voziky/paletove-voz...</td>\n      <td>0</td>\n    </tr>\n    <tr>\n      <th>710</th>\n      <td>www.alfa-leky.cz</td>\n      <td>https://www.alfa-leky.cz/novinky/30-lekarnicka...</td>\n      <td>0</td>\n    </tr>\n  </tbody>\n</table>\n<p>630 rows × 3 columns</p>\n</div>"
     },
     "metadata": {},
     "execution_count": 212
    }
   ],
   "source": [
    "# remove duplicates\n",
    "links_df.drop_duplicates(['url'], keep='first')"
   ]
  },
  {
   "cell_type": "code",
   "execution_count": 213,
   "metadata": {},
   "outputs": [
    {
     "output_type": "stream",
     "name": "stdout",
     "text": [
      "Are product pages: 377\nAre not product pages: 334\n"
     ]
    }
   ],
   "source": [
    "are_pp = len(links_df[links_df['label'] == 1])\n",
    "are_not_pp = len(links_df[links_df['label'] == 0])\n",
    "print(f'Are product pages: {are_pp}')\n",
    "print(f'Are not product pages: {are_not_pp}')"
   ]
  },
  {
   "cell_type": "code",
   "execution_count": 214,
   "metadata": {},
   "outputs": [
    {
     "output_type": "execute_result",
     "data": {
      "text/plain": [
       "630"
      ]
     },
     "metadata": {},
     "execution_count": 214
    }
   ],
   "source": [
    "# drop duplicates in url column\n",
    "links_df = links_df.drop_duplicates(subset=['url'])\n",
    "len(links_df)"
   ]
  },
  {
   "cell_type": "code",
   "execution_count": 215,
   "metadata": {},
   "outputs": [
    {
     "output_type": "execute_result",
     "data": {
      "text/plain": [
       "                 domain                                                url  \\\n",
       "0      www.alfa-leky.cz  https://www.alfa-leky.cz/2869577-humer-hygiena...   \n",
       "1         www.rustak.cz                 https://www.rustak.cz/pevne-zdravi   \n",
       "2            www.5xl.cz                         https://www.5xl.cz/boxerky   \n",
       "3        www.stample.cz  https://www.stample.cz/Charles-Chaplin-Ondrej-...   \n",
       "4  www.marines-shop.com  https://www.marines-shop.com/obal-na-karimatku...   \n",
       "\n",
       "   label  \n",
       "0      1  \n",
       "1      0  \n",
       "2      0  \n",
       "3      1  \n",
       "4      1  "
      ],
      "text/html": "<div>\n<style scoped>\n    .dataframe tbody tr th:only-of-type {\n        vertical-align: middle;\n    }\n\n    .dataframe tbody tr th {\n        vertical-align: top;\n    }\n\n    .dataframe thead th {\n        text-align: right;\n    }\n</style>\n<table border=\"1\" class=\"dataframe\">\n  <thead>\n    <tr style=\"text-align: right;\">\n      <th></th>\n      <th>domain</th>\n      <th>url</th>\n      <th>label</th>\n    </tr>\n  </thead>\n  <tbody>\n    <tr>\n      <th>0</th>\n      <td>www.alfa-leky.cz</td>\n      <td>https://www.alfa-leky.cz/2869577-humer-hygiena...</td>\n      <td>1</td>\n    </tr>\n    <tr>\n      <th>1</th>\n      <td>www.rustak.cz</td>\n      <td>https://www.rustak.cz/pevne-zdravi</td>\n      <td>0</td>\n    </tr>\n    <tr>\n      <th>2</th>\n      <td>www.5xl.cz</td>\n      <td>https://www.5xl.cz/boxerky</td>\n      <td>0</td>\n    </tr>\n    <tr>\n      <th>3</th>\n      <td>www.stample.cz</td>\n      <td>https://www.stample.cz/Charles-Chaplin-Ondrej-...</td>\n      <td>1</td>\n    </tr>\n    <tr>\n      <th>4</th>\n      <td>www.marines-shop.com</td>\n      <td>https://www.marines-shop.com/obal-na-karimatku...</td>\n      <td>1</td>\n    </tr>\n  </tbody>\n</table>\n</div>"
     },
     "metadata": {},
     "execution_count": 215
    }
   ],
   "source": [
    "links_df.head()"
   ]
  },
  {
   "cell_type": "code",
   "execution_count": 268,
   "metadata": {
    "colab": {},
    "colab_type": "code",
    "id": "kPSqspaqIYHg"
   },
   "outputs": [],
   "source": [
    "# added by Petr Hanzl from ml_utils.py\n",
    "PATH_LEN_CAP=100\n",
    "MIN_PROD_ID_LEN = 3\n",
    "MAX_PROD_ID_LEN = 32\n",
    "\n",
    "def has_product_id(path):\n",
    "    if not re.search(r'\\d', path):\n",
    "        return 0\n",
    "    for num in re.findall(r'[0-9]+', path):\n",
    "        if len(num) > MIN_PROD_ID_LEN and len(num) < MAX_PROD_ID_LEN:\n",
    "            return 1\n",
    "    return 0\n",
    "\n",
    "def preprocess_features(df, load_scaler_from_file=False):\n",
    "    processed_features = df[[\"url\"]].copy()\n",
    "    processed_features[\"path\"] = processed_features[\"url\"].map(lambda x: urlparse(x).path + urlparse(x).params + urlparse(x).query + urlparse(x).fragment)\n",
    "    processed_features[\"path_len\"] = processed_features[\"path\"].map(lambda x: min(len(x), PATH_LEN_CAP))\n",
    "    processed_features[\"num_hyphen\"] = processed_features[\"path\"].map(lambda x: x.count(\"-\") + x.rstrip(\"/\").count(\"/\"))\n",
    "    processed_features[\"num_slash\"] = processed_features[\"path\"].map(lambda x: x.rstrip(\"/\").count(\"/\"))\n",
    "    processed_features[\"contains_product\"] = processed_features[\"path\"].map(lambda x: 1 if \"product\" in x else 0)\n",
    "    processed_features[\"contains_produkt\"] = processed_features[\"path\"].map(lambda x: 1 if \"produkt\" in x else 0)\n",
    "    processed_features[\"contains_detail\"] = processed_features[\"path\"].map(lambda x: 1 if \"detail\" in x else 0)\n",
    "    processed_features[\"contains_category\"] = processed_features[\"path\"].map(lambda x: 1 if \"category\" in x else 0)\n",
    "    processed_features[\"contains_kategorie\"] = processed_features[\"path\"].map(lambda x: 1 if \"kategorie\" in x else 0)\n",
    "    processed_features[\"longest_num\"] = processed_features[\"path\"].map(lambda x: len(max(re.findall(r'[0-9]+', x), key=len)) if re.search(r'\\d', x) else 0)\n",
    "    processed_features[\"contains_pid\"] = processed_features[\"path\"].map(lambda x: has_product_id(x))\n",
    "    cols_to_drop = ['url', 'path']\n",
    "    processed_features.drop(cols_to_drop, axis=1, inplace=True)\n",
    "    scaled_features = processed_features.copy()\n",
    "    col_names = [col for col in processed_features if col not in cols_to_drop and not \"contains\" in col]\n",
    "    features = scaled_features[col_names]\n",
    "    scaler_filename = 'StandardScaler.est'\n",
    "    if load_scaler_from_file and os.path.isfile(scaler_filename):\n",
    "        scaler = pickle.load(open(scaler_filename, 'rb'))\n",
    "    else:\n",
    "        scaler = StandardScaler()\n",
    "        scaler = StandardScaler().fit(features.values)\n",
    "        pickle.dump(scaler, open(scaler_filename, 'wb'))\n",
    "\n",
    "    features = scaler.transform(features.values)\n",
    "    scaled_features[col_names] = features\n",
    "    return scaled_features\n",
    "\n",
    "def preprocess_targets(df):\n",
    "  \"\"\"Prepares target features (i.e., labels) from California housing data set.\n",
    "\n",
    "  Args:\n",
    "    california_housing_dataframe: A Pandas DataFrame expected to contain data\n",
    "      from the California housing data set.\n",
    "  Returns:\n",
    "    A DataFrame that contains the target feature.\n",
    "  \"\"\"\n",
    "  output_targets = pd.DataFrame()\n",
    "  # Create a boolean categorical feature representing whether the\n",
    "  # median_house_value is above a set threshold.\n",
    "  output_targets[\"label\"] = df[\"label\"].astype(int)\n",
    "  #output_targets[\"median_house_value_is_high\"] = (\n",
    "  #  california_housing_dataframe[\"median_house_value\"] > 265000).astype(float)\n",
    "  return output_targets\n",
    "\n",
    "def get_groups(df):\n",
    "  return df[\"domain\"].values"
   ]
  },
  {
   "cell_type": "code",
   "execution_count": 269,
   "metadata": {
    "colab": {},
    "colab_type": "code",
    "id": "FwOYWmXqWA6D",
    "scrolled": true
   },
   "outputs": [
    {
     "output_type": "stream",
     "name": "stdout",
     "text": [
      "train_len 567 validation_len 63\nTraining examples summary:\n"
     ]
    },
    {
     "output_type": "display_data",
     "data": {
      "text/plain": "       path_len  num_hyphen  num_slash  contains_product  contains_produkt  \\\ncount     567.0       567.0      567.0             567.0             567.0   \nmean       -0.0         0.0        0.0               0.0               0.1   \nstd         1.0         1.0        1.0               0.2               0.2   \nmin        -1.6        -1.4       -1.6               0.0               0.0   \n25%        -0.8        -0.9       -0.6               0.0               0.0   \n50%        -0.2        -0.4       -0.6               0.0               0.0   \n75%         0.7         0.7        0.5               0.0               0.0   \nmax         2.7         3.9        6.9               1.0               1.0   \n\n       contains_detail  contains_category  contains_kategorie  longest_num  \ncount            567.0              567.0               567.0        567.0  \nmean               0.0                0.0                 0.0          0.0  \nstd                0.2                0.1                 0.2          1.0  \nmin                0.0                0.0                 0.0         -0.8  \n25%                0.0                0.0                 0.0         -0.8  \n50%                0.0                0.0                 0.0         -0.1  \n75%                0.0                0.0                 0.0          0.7  \nmax                1.0                1.0                 1.0          4.2  ",
      "text/html": "<div>\n<style scoped>\n    .dataframe tbody tr th:only-of-type {\n        vertical-align: middle;\n    }\n\n    .dataframe tbody tr th {\n        vertical-align: top;\n    }\n\n    .dataframe thead th {\n        text-align: right;\n    }\n</style>\n<table border=\"1\" class=\"dataframe\">\n  <thead>\n    <tr style=\"text-align: right;\">\n      <th></th>\n      <th>path_len</th>\n      <th>num_hyphen</th>\n      <th>num_slash</th>\n      <th>contains_product</th>\n      <th>contains_produkt</th>\n      <th>contains_detail</th>\n      <th>contains_category</th>\n      <th>contains_kategorie</th>\n      <th>longest_num</th>\n    </tr>\n  </thead>\n  <tbody>\n    <tr>\n      <th>count</th>\n      <td>567.0</td>\n      <td>567.0</td>\n      <td>567.0</td>\n      <td>567.0</td>\n      <td>567.0</td>\n      <td>567.0</td>\n      <td>567.0</td>\n      <td>567.0</td>\n      <td>567.0</td>\n    </tr>\n    <tr>\n      <th>mean</th>\n      <td>-0.0</td>\n      <td>0.0</td>\n      <td>0.0</td>\n      <td>0.0</td>\n      <td>0.1</td>\n      <td>0.0</td>\n      <td>0.0</td>\n      <td>0.0</td>\n      <td>0.0</td>\n    </tr>\n    <tr>\n      <th>std</th>\n      <td>1.0</td>\n      <td>1.0</td>\n      <td>1.0</td>\n      <td>0.2</td>\n      <td>0.2</td>\n      <td>0.2</td>\n      <td>0.1</td>\n      <td>0.2</td>\n      <td>1.0</td>\n    </tr>\n    <tr>\n      <th>min</th>\n      <td>-1.6</td>\n      <td>-1.4</td>\n      <td>-1.6</td>\n      <td>0.0</td>\n      <td>0.0</td>\n      <td>0.0</td>\n      <td>0.0</td>\n      <td>0.0</td>\n      <td>-0.8</td>\n    </tr>\n    <tr>\n      <th>25%</th>\n      <td>-0.8</td>\n      <td>-0.9</td>\n      <td>-0.6</td>\n      <td>0.0</td>\n      <td>0.0</td>\n      <td>0.0</td>\n      <td>0.0</td>\n      <td>0.0</td>\n      <td>-0.8</td>\n    </tr>\n    <tr>\n      <th>50%</th>\n      <td>-0.2</td>\n      <td>-0.4</td>\n      <td>-0.6</td>\n      <td>0.0</td>\n      <td>0.0</td>\n      <td>0.0</td>\n      <td>0.0</td>\n      <td>0.0</td>\n      <td>-0.1</td>\n    </tr>\n    <tr>\n      <th>75%</th>\n      <td>0.7</td>\n      <td>0.7</td>\n      <td>0.5</td>\n      <td>0.0</td>\n      <td>0.0</td>\n      <td>0.0</td>\n      <td>0.0</td>\n      <td>0.0</td>\n      <td>0.7</td>\n    </tr>\n    <tr>\n      <th>max</th>\n      <td>2.7</td>\n      <td>3.9</td>\n      <td>6.9</td>\n      <td>1.0</td>\n      <td>1.0</td>\n      <td>1.0</td>\n      <td>1.0</td>\n      <td>1.0</td>\n      <td>4.2</td>\n    </tr>\n  </tbody>\n</table>\n</div>"
     },
     "metadata": {}
    },
    {
     "output_type": "stream",
     "name": "stdout",
     "text": [
      "Validation examples summary:\n"
     ]
    },
    {
     "output_type": "display_data",
     "data": {
      "text/plain": "       path_len  num_hyphen  num_slash  contains_product  contains_produkt  \\\ncount      63.0        63.0       63.0              63.0              63.0   \nmean        0.0         0.0        0.0               0.0               0.1   \nstd         1.0         1.0        1.0               0.1               0.3   \nmin        -1.3        -1.3       -1.9               0.0               0.0   \n25%        -0.6        -0.5       -0.5               0.0               0.0   \n50%        -0.3        -0.5       -0.5               0.0               0.0   \n75%         0.2         0.4        0.9               0.0               0.0   \nmax         4.1         4.0        3.7               1.0               1.0   \n\n       contains_detail  contains_category  contains_kategorie  longest_num  \ncount             63.0               63.0                63.0         63.0  \nmean               0.0                0.0                 0.1         -0.0  \nstd                0.0                0.0                 0.3          1.0  \nmin                0.0                0.0                 0.0         -0.9  \n25%                0.0                0.0                 0.0         -0.9  \n50%                0.0                0.0                 0.0         -0.3  \n75%                0.0                0.0                 0.0          0.9  \nmax                0.0                0.0                 1.0          3.1  ",
      "text/html": "<div>\n<style scoped>\n    .dataframe tbody tr th:only-of-type {\n        vertical-align: middle;\n    }\n\n    .dataframe tbody tr th {\n        vertical-align: top;\n    }\n\n    .dataframe thead th {\n        text-align: right;\n    }\n</style>\n<table border=\"1\" class=\"dataframe\">\n  <thead>\n    <tr style=\"text-align: right;\">\n      <th></th>\n      <th>path_len</th>\n      <th>num_hyphen</th>\n      <th>num_slash</th>\n      <th>contains_product</th>\n      <th>contains_produkt</th>\n      <th>contains_detail</th>\n      <th>contains_category</th>\n      <th>contains_kategorie</th>\n      <th>longest_num</th>\n    </tr>\n  </thead>\n  <tbody>\n    <tr>\n      <th>count</th>\n      <td>63.0</td>\n      <td>63.0</td>\n      <td>63.0</td>\n      <td>63.0</td>\n      <td>63.0</td>\n      <td>63.0</td>\n      <td>63.0</td>\n      <td>63.0</td>\n      <td>63.0</td>\n    </tr>\n    <tr>\n      <th>mean</th>\n      <td>0.0</td>\n      <td>0.0</td>\n      <td>0.0</td>\n      <td>0.0</td>\n      <td>0.1</td>\n      <td>0.0</td>\n      <td>0.0</td>\n      <td>0.1</td>\n      <td>-0.0</td>\n    </tr>\n    <tr>\n      <th>std</th>\n      <td>1.0</td>\n      <td>1.0</td>\n      <td>1.0</td>\n      <td>0.1</td>\n      <td>0.3</td>\n      <td>0.0</td>\n      <td>0.0</td>\n      <td>0.3</td>\n      <td>1.0</td>\n    </tr>\n    <tr>\n      <th>min</th>\n      <td>-1.3</td>\n      <td>-1.3</td>\n      <td>-1.9</td>\n      <td>0.0</td>\n      <td>0.0</td>\n      <td>0.0</td>\n      <td>0.0</td>\n      <td>0.0</td>\n      <td>-0.9</td>\n    </tr>\n    <tr>\n      <th>25%</th>\n      <td>-0.6</td>\n      <td>-0.5</td>\n      <td>-0.5</td>\n      <td>0.0</td>\n      <td>0.0</td>\n      <td>0.0</td>\n      <td>0.0</td>\n      <td>0.0</td>\n      <td>-0.9</td>\n    </tr>\n    <tr>\n      <th>50%</th>\n      <td>-0.3</td>\n      <td>-0.5</td>\n      <td>-0.5</td>\n      <td>0.0</td>\n      <td>0.0</td>\n      <td>0.0</td>\n      <td>0.0</td>\n      <td>0.0</td>\n      <td>-0.3</td>\n    </tr>\n    <tr>\n      <th>75%</th>\n      <td>0.2</td>\n      <td>0.4</td>\n      <td>0.9</td>\n      <td>0.0</td>\n      <td>0.0</td>\n      <td>0.0</td>\n      <td>0.0</td>\n      <td>0.0</td>\n      <td>0.9</td>\n    </tr>\n    <tr>\n      <th>max</th>\n      <td>4.1</td>\n      <td>4.0</td>\n      <td>3.7</td>\n      <td>1.0</td>\n      <td>1.0</td>\n      <td>0.0</td>\n      <td>0.0</td>\n      <td>1.0</td>\n      <td>3.1</td>\n    </tr>\n  </tbody>\n</table>\n</div>"
     },
     "metadata": {}
    },
    {
     "output_type": "stream",
     "name": "stdout",
     "text": [
      "Training targets summary:\n"
     ]
    },
    {
     "output_type": "display_data",
     "data": {
      "text/plain": "       label\ncount  567.0\nmean     0.6\nstd      0.5\nmin      0.0\n25%      0.0\n50%      1.0\n75%      1.0\nmax      1.0",
      "text/html": "<div>\n<style scoped>\n    .dataframe tbody tr th:only-of-type {\n        vertical-align: middle;\n    }\n\n    .dataframe tbody tr th {\n        vertical-align: top;\n    }\n\n    .dataframe thead th {\n        text-align: right;\n    }\n</style>\n<table border=\"1\" class=\"dataframe\">\n  <thead>\n    <tr style=\"text-align: right;\">\n      <th></th>\n      <th>label</th>\n    </tr>\n  </thead>\n  <tbody>\n    <tr>\n      <th>count</th>\n      <td>567.0</td>\n    </tr>\n    <tr>\n      <th>mean</th>\n      <td>0.6</td>\n    </tr>\n    <tr>\n      <th>std</th>\n      <td>0.5</td>\n    </tr>\n    <tr>\n      <th>min</th>\n      <td>0.0</td>\n    </tr>\n    <tr>\n      <th>25%</th>\n      <td>0.0</td>\n    </tr>\n    <tr>\n      <th>50%</th>\n      <td>1.0</td>\n    </tr>\n    <tr>\n      <th>75%</th>\n      <td>1.0</td>\n    </tr>\n    <tr>\n      <th>max</th>\n      <td>1.0</td>\n    </tr>\n  </tbody>\n</table>\n</div>"
     },
     "metadata": {}
    },
    {
     "output_type": "stream",
     "name": "stdout",
     "text": [
      "Validation targets summary:\n"
     ]
    },
    {
     "output_type": "display_data",
     "data": {
      "text/plain": "       label\ncount   63.0\nmean     0.1\nstd      0.4\nmin      0.0\n25%      0.0\n50%      0.0\n75%      0.0\nmax      1.0",
      "text/html": "<div>\n<style scoped>\n    .dataframe tbody tr th:only-of-type {\n        vertical-align: middle;\n    }\n\n    .dataframe tbody tr th {\n        vertical-align: top;\n    }\n\n    .dataframe thead th {\n        text-align: right;\n    }\n</style>\n<table border=\"1\" class=\"dataframe\">\n  <thead>\n    <tr style=\"text-align: right;\">\n      <th></th>\n      <th>label</th>\n    </tr>\n  </thead>\n  <tbody>\n    <tr>\n      <th>count</th>\n      <td>63.0</td>\n    </tr>\n    <tr>\n      <th>mean</th>\n      <td>0.1</td>\n    </tr>\n    <tr>\n      <th>std</th>\n      <td>0.4</td>\n    </tr>\n    <tr>\n      <th>min</th>\n      <td>0.0</td>\n    </tr>\n    <tr>\n      <th>25%</th>\n      <td>0.0</td>\n    </tr>\n    <tr>\n      <th>50%</th>\n      <td>0.0</td>\n    </tr>\n    <tr>\n      <th>75%</th>\n      <td>0.0</td>\n    </tr>\n    <tr>\n      <th>max</th>\n      <td>1.0</td>\n    </tr>\n  </tbody>\n</table>\n</div>"
     },
     "metadata": {}
    }
   ],
   "source": [
    "# Choose the first 90% of the examples for training.\n",
    "n_links = len(links_df)\n",
    "train_len = int(math.floor(0.9*n_links))\n",
    "validation_len = int(n_links - train_len)\n",
    "print(\"train_len\", train_len, \"validation_len\", validation_len)\n",
    "\n",
    "training_input = links_df.head(train_len)\n",
    "validation_input = links_df.tail(validation_len)\n",
    "\n",
    "training_input = training_input.reindex(\n",
    "    np.random.permutation(training_input.index))\n",
    "\n",
    "validation_input = validation_input.reindex(\n",
    "    np.random.permutation(validation_input.index))\n",
    "\n",
    "training_examples = preprocess_features(training_input)\n",
    "training_targets = preprocess_targets(training_input)\n",
    "training_groups = get_groups(training_input)\n",
    "\n",
    "# Choose the last 30% of the examples for validation.\n",
    "validation_examples = preprocess_features(validation_input)\n",
    "validation_targets = preprocess_targets(validation_input)\n",
    "\n",
    "print(\"Training examples summary:\")\n",
    "display.display(training_examples.describe())\n",
    "print(\"Validation examples summary:\")\n",
    "display.display(validation_examples.describe())\n",
    "\n",
    "print(\"Training targets summary:\")\n",
    "display.display(training_targets.describe())\n",
    "print(\"Validation targets summary:\")\n",
    "display.display(validation_targets.describe())"
   ]
  },
  {
   "cell_type": "code",
   "execution_count": 270,
   "metadata": {},
   "outputs": [],
   "source": [
    "from sklearn.linear_model import LogisticRegression, LogisticRegressionCV, SGDClassifier\n"
   ]
  },
  {
   "cell_type": "code",
   "execution_count": 271,
   "metadata": {},
   "outputs": [
    {
     "output_type": "execute_result",
     "data": {
      "text/plain": [
       "                domain                                                url  \\\n",
       "436  www.happyrobin.cz     http://www.happyrobin.cz/survival-food-pack-2/   \n",
       "504    www.spectoys.cz             https://www.spectoys.cz/#customerLogin   \n",
       "74      www.limosky.cz  https://www.limosky.cz/napoje-bad-brambacher/6...   \n",
       "333       www.beemy.cz  https://www.beemy.cz/vyprodej/cepice-light-blu...   \n",
       "142       editsimon.cz  https://editsimon.cz/vitaminy-a-doplnky/171-ka...   \n",
       "\n",
       "     label  \n",
       "436      0  \n",
       "504      0  \n",
       "74       1  \n",
       "333      1  \n",
       "142      1  "
      ],
      "text/html": "<div>\n<style scoped>\n    .dataframe tbody tr th:only-of-type {\n        vertical-align: middle;\n    }\n\n    .dataframe tbody tr th {\n        vertical-align: top;\n    }\n\n    .dataframe thead th {\n        text-align: right;\n    }\n</style>\n<table border=\"1\" class=\"dataframe\">\n  <thead>\n    <tr style=\"text-align: right;\">\n      <th></th>\n      <th>domain</th>\n      <th>url</th>\n      <th>label</th>\n    </tr>\n  </thead>\n  <tbody>\n    <tr>\n      <th>436</th>\n      <td>www.happyrobin.cz</td>\n      <td>http://www.happyrobin.cz/survival-food-pack-2/</td>\n      <td>0</td>\n    </tr>\n    <tr>\n      <th>504</th>\n      <td>www.spectoys.cz</td>\n      <td>https://www.spectoys.cz/#customerLogin</td>\n      <td>0</td>\n    </tr>\n    <tr>\n      <th>74</th>\n      <td>www.limosky.cz</td>\n      <td>https://www.limosky.cz/napoje-bad-brambacher/6...</td>\n      <td>1</td>\n    </tr>\n    <tr>\n      <th>333</th>\n      <td>www.beemy.cz</td>\n      <td>https://www.beemy.cz/vyprodej/cepice-light-blu...</td>\n      <td>1</td>\n    </tr>\n    <tr>\n      <th>142</th>\n      <td>editsimon.cz</td>\n      <td>https://editsimon.cz/vitaminy-a-doplnky/171-ka...</td>\n      <td>1</td>\n    </tr>\n  </tbody>\n</table>\n</div>"
     },
     "metadata": {},
     "execution_count": 271
    }
   ],
   "source": [
    "training_input.head()"
   ]
  },
  {
   "cell_type": "code",
   "execution_count": 272,
   "metadata": {},
   "outputs": [
    {
     "output_type": "stream",
     "name": "stdout",
     "text": [
      "Logit Accuracy: 0.78 (+/- 0.07)\nSGD Accuracy: 0.78 (+/- 0.07)\nLogit 0.65\nSGD 0.62\n"
     ]
    }
   ],
   "source": [
    "gkf = GroupKFold(n_splits=5)\n",
    "\n",
    "clf = LogisticRegression(solver=\"lbfgs\", C=0.05, penalty=\"l2\").fit(training_examples, training_targets.values.ravel())\n",
    "sgd_clf = SGDClassifier(loss=\"log\", max_iter=1000, eta0=0.0002, learning_rate=\"adaptive\").fit(training_examples, training_targets.values.ravel())\n",
    "sgd_clf = SGDClassifier(loss=\"log\", max_iter=10000, alpha=0.01,\n",
    "                        learning_rate=\"optimal\").\\\n",
    "                        fit(training_examples, training_targets.values.ravel())\n",
    "logit_scores = cross_val_score(clf, training_examples,\n",
    "                               training_targets.values.ravel(),\n",
    "                               cv=gkf, groups=training_groups)\n",
    "sgd_scores = cross_val_score(sgd_clf, training_examples,\n",
    "                             training_targets.values.ravel(),\n",
    "                             cv=gkf, groups=training_groups)\n",
    "\n",
    "print(\"Logit Accuracy: %0.2f (+/- %0.2f)\" % (logit_scores.mean(), logit_scores.std() * 2))\n",
    "print(\"SGD Accuracy: %0.2f (+/- %0.2f)\" % (sgd_scores.mean(), sgd_scores.std() * 2))\n",
    "\n",
    "print(\"Logit\", \"%0.2f\" % clf.score(validation_examples, validation_targets))\n",
    "print(\"SGD\", \"%0.2f\" % sgd_clf.score(validation_examples, validation_targets))\n"
   ]
  },
  {
   "cell_type": "code",
   "execution_count": 273,
   "metadata": {},
   "outputs": [],
   "source": [
    "model_filename = 'SGDClassifier.est'\n",
    "pickle.dump(sgd_clf, open(model_filename, 'wb'))\n"
   ]
  },
  {
   "cell_type": "code",
   "execution_count": 274,
   "metadata": {},
   "outputs": [
    {
     "output_type": "execute_result",
     "data": {
      "text/plain": [
       "0.6190476190476191"
      ]
     },
     "metadata": {},
     "execution_count": 274
    }
   ],
   "source": [
    "sgd_est = pickle.load(open(model_filename, 'rb'))\n",
    "sgd_est.score(validation_examples, validation_targets)"
   ]
  },
  {
   "cell_type": "code",
   "execution_count": 275,
   "metadata": {},
   "outputs": [
    {
     "output_type": "stream",
     "name": "stdout",
     "text": [
      "https://www.betulin.cz/produkt/betulin-pure/ 0.28131774925153075\nhttps://trnkovjanka-eshop.webnode.cz/products/produkt-1/ 0.3133547644033269\nhttp://viacell.cz/produkty/446 0.2190479494117698\n"
     ]
    }
   ],
   "source": [
    "urls= [\"https://www.alza.cz/darkovy-poukaz-alza-cz-na-nakup-zbozi-v-hodnote-500-kc-d5258076.htm\",\n",
    "\"https://www.czc.cz/the-last-of-us-remastered-ps4/151440/produkt\",\n",
    "\"https://www.astir.cz/eshop/pokladni-kotoucky/papirove-kotoucky-s-kopii-11/kotoucek-ncr-114-70-1211\",\n",
    "\"https://www.kupsiboty.cz/produkt/cerne-elasticke-kozacky-se-zlatym-podpatkem-claudia-ghizzani-36\",\n",
    "\"https://www.dogsdream.cz/koberecky/trixie-junior-dog-activity-cmuchaci-koberec-38-cm/\",\n",
    "\"https://www.srncuvkram.cz/mibiv-oem-navigace-semi-original-2/dvd-opticka-mechanika-sim-microsd-slot-pro-mibiv-autoradio/\",\n",
    "\"https://www.medpharma.cz/vitaminy-mineraly-specialni-pripravky/probio-imun-komplex-laktobacilu-a-bifidobakterii\",\n",
    "\"https://www.betulin.cz/produkt/betulin-pure/\",\n",
    "\"https://www.rcmodelari.cz/jamara-cocoon-monstertruck-4wd/\",\n",
    "\"https://www.mojeboccia.cz/panske/boccia-titanium-hodinky--3641-02/\",\n",
    "\"https://www.beason.cz/balicky/extrifit-cesta-na-vrchol/\",\n",
    "\"https://www.ecstore.cz/detail/lezecke-vybaveni/ocun-via-ferrata-set-bodyguard/\",\n",
    "\"https://www.obchod-cikom.cz/sada-vrtaku-a-bitu-26ks-darek-termohrnek-dewalt\",\n",
    "\"http://www.jeep4x4shop.cz/wk-doplnky-tuning-vychytavky-c108/pruzina-s-tlumicem-a-uchycenim-predni-leva-jeep-wk-wh-xk-xh-i3181/\",\n",
    "\"https://www.onai.cz/bosch-tassimo-style-tas1102/\",\n",
    "\"https://www.kusove-koberce.cz/kusovy-koberec-star-19112-53-blue/pro4420.html\",\n",
    "\"https://www.mimibertik.cz/prebalovaci-podlozka-mekka-50x70-denim-style-dream-catcher-blue-ceba-baby/\",\n",
    "\"https://www.svodice-prepeti.cz/Kombinovany-svodic-prepeti-CITEL-DUT250VG-300-TT-d10.htm\",\n",
    "\"https://www.celomed.cz/Sweet-orange-aromaterapeuticka-esence-d908.htm\",\n",
    "\"https://www.vlastni-znamky.cz/stojanek-na-ubrousky-litinovy-k1479-1-ks.html\",\n",
    "\"https://www.astir.cz/eshop/pokladni-kotoucky/papirove-kotoucky-s-kopii-11/kotoucek-ncr-114-70-1211\",\n",
    "\"https://www.mojetvoreni.cz/latky/pradlo.php?m=Bavlněná%20látka%20Bagatelle%20circles%20coral%20digital%20print\",\n",
    "\"http://www.nerezsanita.cz/Pitko-Franke-DF240WM-d1336.htm\",\n",
    "\"https://www.obraznastenu.cz/obraz-na-platne-white-poppy-1-dilny-xobverart014e1\",\n",
    "\"https://trnkovjanka-eshop.webnode.cz/products/produkt-1/\",\n",
    "\"http://www.pohodadomova.sk/kotol-plynovy-zavesny/intergas-kotol-kondenzacny-hre-18-kw-046068/\",\n",
    "\"http://eshop.virutekk.cz/sklopne-kotle-s-michadlem/virutekk-s-michadlem-praktik-350-multifunkcni-kotel/\",\n",
    "\"https://www.skisport-shop.cz/bezky-na-klasiku/728-bezecke-lyze-sporten-perun-198-cm-supiny.html\",\n",
    "\"http://viacell.cz/produkty/446\",\n",
    "\"https://www.floraldesign.cz/Eucalyptus-Spiral-listy-150gr-bordo-d6441.htm\",\n",
    "\"https://www.bemondi.sk/sk/karta/koen-kreslo-manager-,694.html\",\n",
    "\"https://www.topventilatory.cz/ventilatory-silentis-nerez/cata-silentis-10-inox-186\",\n",
    "\"https://www.essimo.cz/p/gelatina-2000-fair-power\",\n",
    "\"https://www.sharp-partner.cz/regalove-reproduktory/519-bluetooth-reproduktory-eltax-monitor-iii-bt-cerna.html\",\n",
    "\"https://www.identcore.cz/rfid-cipove-klicenky/potisknutelna-klicenka-epoxy/potisknutelna-klicenka-epoxy-151.html\"]\n",
    "\n",
    "df = pd.DataFrame.from_records([(url,) for url in urls], columns=[\"url\"])\n",
    "X = preprocess_features(df, load_scaler_from_file=True)\n",
    "sgd_est = pickle.load(open(model_filename, 'rb'))\n",
    "probs = sgd_est.predict_proba(X.values)\n",
    "for url, probs in zip(urls, probs):\n",
    "    if probs[1] < 0.55:\n",
    "        print(url, probs[1])\n"
   ]
  }
 ],
 "metadata": {
  "colab": {
   "collapsed_sections": [
    "JndnmDMp66FL",
    "dPpJUV862FYI",
    "i2e3TlyL57Qs",
    "wCugvl0JdWYL"
   ],
   "name": "logistic_regression.ipynb",
   "provenance": [],
   "version": "0.3.2"
  },
  "kernelspec": {
   "display_name": "Python 3",
   "language": "python",
   "name": "python3"
  },
  "language_info": {
   "codemirror_mode": {
    "name": "ipython",
    "version": 3
   },
   "file_extension": ".py",
   "mimetype": "text/x-python",
   "name": "python",
   "nbconvert_exporter": "python",
   "pygments_lexer": "ipython3",
   "version": "3.8.3-final"
  }
 },
 "nbformat": 4,
 "nbformat_minor": 1
}